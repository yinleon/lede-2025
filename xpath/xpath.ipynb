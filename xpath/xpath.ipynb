{
 "cells": [
  {
   "cell_type": "code",
   "execution_count": 7,
   "id": "001b7671-dc6a-4810-a2d4-0bd776096167",
   "metadata": {},
   "outputs": [],
   "source": [
    "import requests"
   ]
  },
  {
   "cell_type": "code",
   "execution_count": 8,
   "id": "7b530ac0-675a-4c89-8719-9ac90d90429b",
   "metadata": {},
   "outputs": [],
   "source": [
    "url = \"https://text.npr.org/\"\n",
    "resp = requests.get(url)"
   ]
  },
  {
   "cell_type": "code",
   "execution_count": 6,
   "id": "3faa4033-6e3a-4bf8-aaba-f9779fcc1ff7",
   "metadata": {
    "collapsed": true,
    "jupyter": {
     "outputs_hidden": true
    }
   },
   "outputs": [
    {
     "name": "stdout",
     "output_type": "stream",
     "text": [
      "<!DOCTYPE html>\n",
      "<html lang=\"en\">\n",
      "<head>\n",
      "    <title>NPR : National Public Radio</title>\n",
      "    <meta http-equiv=\"Content-Type\" content=\"text/html;charset=utf-8\">\n",
      "    <meta name=\"viewport\" content=\"width=device-width\">\n",
      "    <link id=\"favicon\" rel=\"shortcut icon\" type=\"image/png\" href=\"data:image/png;base64,iVBORw0KGgoAAAANSUhEUgAAABAAAAAQCAYAAAAf8/9hAAAAAXNSR0IArs4c6QAAAHlJREFUOBFjYBgFFIcA48cYpf/opvAv+YouxODXshZDbFONDSMLSJRv8V245KdYZTD7//8XcDFGRgkwe2O1NVzMv/UomA02AMQCaUQ2CCQG0ohsEEgMphHEBgEmCIWdRNeMTRXYBTBnw2iYQpjTYXx022Hio/RAhwAAjXEfJrIXnj4AAAAASUVORK5CYII=\">\n",
      "    <style>\n",
      "        body {\n",
      "    display: block;\n",
      "    padding: 0px 20px;\n",
      "    max-width: 550px;\n",
      "    margin: 0 auto;\n",
      "    font-family: -apple-system, BlinkMacSystemFont, \"Segoe UI\", Roboto, Helvetica, Arial, sans-serif, \"Apple Color Emoji\", \"Segoe UI Emoji\", \"Segoe UI Symbol\";\n",
      "}\n",
      "\n",
      ".full-version-link {\n",
      "    margin-left: 15px;\n",
      "}\n",
      "\n",
      ".slug-line {\n",
      "    font-size: 1.1rem;\n",
      "    margin-bottom: 15px;\n",
      "}\n",
      "\n",
      ".hr-line {\n",
      "    position: relative;\n",
      "    height: 4px;\n",
      "}\n",
      "\n",
      ".hr-line:after {\n",
      "    background: linear-gradient(to right, #e60000 0%, #e60000 33.33%, #000000 33.33%, #000000 66.66%, #3366CC 66.66%);\n",
      "    position: absolute;\n",
      "    content: '';\n",
      "    height: 4px;\n",
      "    right: 0;\n",
      "    left: 0;\n",
      "    top: 0;\n",
      "}\n",
      "\n",
      "hr.gray {\n",
      "    border: .5px solid gray;\n",
      "}\n",
      "\n",
      ".story-title {\n",
      "    line-height: 2rem;\n",
      "    font-size: 1.5rem;\n",
      "    margin: 0;\n",
      "}\n",
      "\n",
      ".topic-heading {\n",
      "    line-height: 2rem;\n",
      "    font-size: 1.5rem;\n",
      "}\n",
      "\n",
      ".topic-container>ul {\n",
      "    padding: 0;\n",
      "    line-height: 1.4rem;\n",
      "}\n",
      "\n",
      ".topic-container li {\n",
      "    display: block;\n",
      "    padding-bottom: 15px;\n",
      "}\n",
      "\n",
      ".topic-container {\n",
      "    margin-top: 20px;\n",
      "}\n",
      "\n",
      ".topic-date {\n",
      "    margin: 20px 0;\n",
      "    font-style: italic;\n",
      "}\n",
      "\n",
      ".paragraphs-container {\n",
      "    line-height: 1.5rem;\n",
      "}\n",
      "\n",
      ".button:link,\n",
      ".button:visited {\n",
      "    background-color: white;\n",
      "    color: black;\n",
      "    border: 2px solid black;\n",
      "    padding: 4px 8px;\n",
      "    text-align: center;\n",
      "    text-decoration: none;\n",
      "    display: inline-block;\n",
      "}\n",
      "\n",
      ".button:hover,\n",
      ".button:active {\n",
      "    background-color: black;\n",
      "    color: white;\n",
      "}\n",
      "\n",
      ".lower-nav-container {\n",
      "    margin-top: 40px;\n",
      "}\n",
      "\n",
      ".lower-nav-container li {\n",
      "    margin-left: 0;\n",
      "    display: inline;\n",
      "    padding-right: 20px;\n",
      "}\n",
      "\n",
      "h6 {\n",
      "  text-transform: uppercase;\n",
      "}\n",
      "\n",
      "    </style>\n",
      "</head>\n",
      "\n",
      "\n",
      "<body>\n",
      "<header>\n",
      "  <p>Text-Only Version <a class=\"full-version-link button\" href=\"https://www.npr.org/\">Go To Full Site</a></p>\n",
      "</header>\n",
      "\n",
      "\n",
      "<main>\n",
      "  <p>\n",
      "    \n",
      "  </p>\n",
      "\n",
      "  <div class=\"topic-container\">\n",
      "    <h1 class=\"topic-heading\">NPR : National Public Radio</h1>\n",
      "    <div class=\"hr-line\"></div>\n",
      "    <p class=\"topic-date\">Tuesday, July 8, 2025</p>\n",
      "    <ul>\n",
      "      \n",
      "        <li><a class=\"topic-title\" href=\"/nx-s1-5454669\">DOJ launches unusual lawsuit against entire federal district court in Maryland</a></li>\n",
      "      \n",
      "        <li><a class=\"topic-title\" href=\"/nx-s1-5429615\">Supreme Court allows Trump to resume mass federal layoffs for now</a></li>\n",
      "      \n",
      "        <li><a class=\"topic-title\" href=\"/nx-s1-5460898\">Texas flood death toll tops 100 and more than 160 people are missing, Gov. Abbott says </a></li>\n",
      "      \n",
      "        <li><a class=\"topic-title\" href=\"/g-s1-76471\">Graphics: Where the Texas floods happened and how high the waters rose</a></li>\n",
      "      \n",
      "        <li><a class=\"topic-title\" href=\"/nx-s1-5460025\">Haiti's iconic Hotel Oloffson, long a cultural beacon, destroyed by gang violence</a></li>\n",
      "      \n",
      "        <li><a class=\"topic-title\" href=\"/nx-s1-5460886\">The IRS says churches can now endorse political candidates </a></li>\n",
      "      \n",
      "        <li><a class=\"topic-title\" href=\"/nx-s1-5448697\">New books this week focus on Caitlin Clark, King Tut, and how 'Democrats Lost America'</a></li>\n",
      "      \n",
      "        <li><a class=\"topic-title\" href=\"/nx-s1-5460978\">Shoes off at the airport? TSA gives the pesky rule the boot</a></li>\n",
      "      \n",
      "        <li><a class=\"topic-title\" href=\"/nx-s1-5231810\">5 money-draining mistakes travelers make when planning a vacation</a></li>\n",
      "      \n",
      "        <li><a class=\"topic-title\" href=\"/nx-s1-5157748\">The U.S. has millions of old gas and oil wells. Here's what it takes to plug them up</a></li>\n",
      "      \n",
      "        <li><a class=\"topic-title\" href=\"/nx-s1-5338922\">Why a tiny bit of oil can be a big deal</a></li>\n",
      "      \n",
      "        <li><a class=\"topic-title\" href=\"/nx-s1-5449162\">Defunct oil wells are a national problem. Finding them is the first step</a></li>\n",
      "      \n",
      "        <li><a class=\"topic-title\" href=\"/nx-s1-5460943\">Prime Day — er, Days — tests deal hunters' will to spend amid tariffs</a></li>\n",
      "      \n",
      "        <li><a class=\"topic-title\" href=\"/1234569831\">Jimmy Eat World: Tiny Desk Concert</a></li>\n",
      "      \n",
      "        <li><a class=\"topic-title\" href=\"/nx-s1-5459910\">The health of U.S. kids has declined significantly since 2007, a new study finds</a></li>\n",
      "      \n",
      "        <li><a class=\"topic-title\" href=\"/nx-s1-5459978\">RFK Jr.'s vaccine policy sparks a lawsuit from the American Academy of Pediatrics</a></li>\n",
      "      \n",
      "        <li><a class=\"topic-title\" href=\"/nx-s1-5449163\">Federal officials investigate hospitals over religious exemptions from gender-affirming care</a></li>\n",
      "      \n",
      "        <li><a class=\"topic-title\" href=\"/nx-s1-5388357\">As women have far fewer babies, the U.S. and the world face unprecedented challenges</a></li>\n",
      "      \n",
      "        <li><a class=\"topic-title\" href=\"/nx-s1-5430760\">100 years after evolution went on trial, the Scopes case still reverberates</a></li>\n",
      "      \n",
      "        <li><a class=\"topic-title\" href=\"/1190234742\">How to bring more play into your life</a></li>\n",
      "      \n",
      "    </ul>\n",
      "  </div>\n",
      "</main>\n",
      "\n",
      "\n",
      "<div class=\"hr-line\"></div>\n",
      "<nav>\n",
      "<p>Topics</p>\n",
      "<ul>\n",
      "    <li><a href=\"/1001\">News</a></li>\n",
      "    <li><a href=\"/1008\">Culture</a></li>\n",
      "    <li><a href=\"/1039\">Music</a></li>\n",
      "</ul>\n",
      "</nav>\n",
      "\n",
      "\n",
      "<footer>\n",
      "  <nav class=\"lower-nav-container\">\n",
      "    <li><a href=\"/614470770\">Contact Us</a></li>\n",
      "    <li><a href=\"/179876898\">Terms of Use</a></li>\n",
      "    <li><a href=\"/179881519\">Permissions</a></li>\n",
      "    <li><a href=\"/179878450\">Privacy Policy</a></li>\n",
      "  </nav>\n",
      "\n",
      "  <p>&copy NPR</p>\n",
      "</footer>\n",
      "\n",
      "</body>\n",
      "</html>\n",
      "\n"
     ]
    }
   ],
   "source": [
    "# this is the HTML of the web page.\n",
    "print(resp.text)"
   ]
  },
  {
   "cell_type": "markdown",
   "id": "504a44ef-bca6-4073-a67e-1026351b579c",
   "metadata": {},
   "source": [
    "## BeautifulSoup"
   ]
  },
  {
   "cell_type": "code",
   "execution_count": 9,
   "id": "e4b7d047-0886-4320-8848-354ff09e7b5d",
   "metadata": {},
   "outputs": [
    {
     "data": {
      "text/plain": [
       "[{'link': 'https://npr.org/nx-s1-5459871',\n",
       "  'title': 'Texas is relying on FEMA. State leaders said it should be cut'},\n",
       " {'link': 'https://npr.org/nx-s1-5460995',\n",
       "  'title': 'In Texas, a major search effort is being led by the father of a flood victim'},\n",
       " {'link': 'https://npr.org/nx-s1-5461000',\n",
       "  'title': 'The United Cajun Navy helps Texans deal with flood aftermath'},\n",
       " {'link': 'https://npr.org/g-s1-76471',\n",
       "  'title': 'Graphics: Where the Texas floods happened and how high the waters rose'},\n",
       " {'link': 'https://npr.org/nx-s1-5460018',\n",
       "  'title': 'After quitting antidepressants, some people suffer surprising, lingering symptoms'}]"
      ]
     },
     "execution_count": 9,
     "metadata": {},
     "output_type": "execute_result"
    }
   ],
   "source": [
    "from bs4 import BeautifulSoup\n",
    "\n",
    "# read the webpage as bs4\n",
    "soup = BeautifulSoup(resp.text)\n",
    "\n",
    "# select all the \"a\" tags with the specified class.\n",
    "articles = soup.find_all(\"a\", {\"class\": \"topic-title\"})\n",
    "\n",
    "# iterate through each headline and grab the title and link of each story.\n",
    "data = []\n",
    "for elm in articles:\n",
    "    link = elm.get('href')\n",
    "    link = f\"https://npr.org{link}\"\n",
    "    title = elm.text\n",
    "    row = {'link' : link, 'title': title}\n",
    "    data.append(row)\n",
    "    \n",
    "data[:5]"
   ]
  },
  {
   "cell_type": "markdown",
   "id": "e376700e-fbcf-4628-aba7-8b078142d700",
   "metadata": {},
   "source": [
    "Let's look at the overkill version: <br>\n",
    "https://github.com/the-markup/investigation-google-search-audit/blob/master/utils/parsers.py"
   ]
  },
  {
   "cell_type": "markdown",
   "id": "1db11e8c-bb05-444e-9154-4cb7adedee1b",
   "metadata": {},
   "source": [
    "## XPath"
   ]
  },
  {
   "cell_type": "code",
   "execution_count": null,
   "id": "05406e03-cf4c-4dea-ae09-471830198998",
   "metadata": {},
   "outputs": [],
   "source": [
    "/html/body/main/div/ul/li"
   ]
  },
  {
   "cell_type": "code",
   "execution_count": 4,
   "id": "8a837adb-7665-41e8-8d48-32f4b389ce09",
   "metadata": {},
   "outputs": [
    {
     "data": {
      "text/plain": [
       "[{'link': 'https://npr.org/nx-s1-5454669',\n",
       "  'title': 'DOJ launches unusual lawsuit against entire federal district court in Maryland'},\n",
       " {'link': 'https://npr.org/nx-s1-5429615',\n",
       "  'title': 'Supreme Court allows Trump to resume mass federal layoffs for now'},\n",
       " {'link': 'https://npr.org/nx-s1-5460898',\n",
       "  'title': 'Texas flood death toll tops 100 and more than 160 people are missing, Gov. Abbott says '},\n",
       " {'link': 'https://npr.org/g-s1-76471',\n",
       "  'title': 'Graphics: Where the Texas floods happened and how high the waters rose'},\n",
       " {'link': 'https://npr.org/nx-s1-5460025',\n",
       "  'title': \"Haiti's iconic Hotel Oloffson, long a cultural beacon, destroyed by gang violence\"}]"
      ]
     },
     "execution_count": 4,
     "metadata": {},
     "output_type": "execute_result"
    }
   ],
   "source": [
    "from lxml import etree\n",
    "\n",
    "# read the webpage as lxml\n",
    "tree = etree.HTML(resp.text)\n",
    "\n",
    "# select all the \"a\" tags with the specified class.\n",
    "xpath_article = './/a[@class=\"topic-title\"]'\n",
    "elements = tree.findall(xpath_article)\n",
    "\n",
    "# iterate through each headline and grab the title and link of each story.\n",
    "data = []\n",
    "for elm in elements:\n",
    "    link = elm.get('href')\n",
    "    link = f\"https://npr.org{link}\"\n",
    "    title = elm.text\n",
    "    row = {'link' : link, 'title': title}\n",
    "    data.append(row)\n",
    "    \n",
    "data[:5]"
   ]
  },
  {
   "cell_type": "code",
   "execution_count": null,
   "id": "e2cd4eeb-6769-4dc3-9469-62980fe8262a",
   "metadata": {},
   "outputs": [],
   "source": [
    "/html/body/main/div/ul/li/a[3]"
   ]
  },
  {
   "cell_type": "code",
   "execution_count": null,
   "id": "35b6b08e-70dc-4aa7-9322-0b952a91852c",
   "metadata": {},
   "outputs": [],
   "source": [
    "//a[@class=\"topic-title\" and contains(text(), \"Texas\")] "
   ]
  },
  {
   "cell_type": "code",
   "execution_count": null,
   "id": "65dc2af2-7082-493f-a155-c1304504db13",
   "metadata": {},
   "outputs": [],
   "source": [
    "//a"
   ]
  }
 ],
 "metadata": {
  "kernelspec": {
   "display_name": "Python 3 (ipykernel)",
   "language": "python",
   "name": "python3"
  },
  "language_info": {
   "codemirror_mode": {
    "name": "ipython",
    "version": 3
   },
   "file_extension": ".py",
   "mimetype": "text/x-python",
   "name": "python",
   "nbconvert_exporter": "python",
   "pygments_lexer": "ipython3",
   "version": "3.11.4"
  }
 },
 "nbformat": 4,
 "nbformat_minor": 5
}
