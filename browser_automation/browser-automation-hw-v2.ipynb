{
 "cells": [
  {
   "cell_type": "markdown",
   "id": "408d180b-e773-40b0-b987-0783ffce9a33",
   "metadata": {},
   "source": [
    "# Browser Automation Homework ROUND 2\n",
    "Due 7-16<br>\n",
    "Completed by: **TK YOUR NAME**\n",
    "\n",
    "We're going to the United States trademark data base and going to collect all of Nike (or any company's) active trademarks.\n",
    "\n",
    "We only want the live trademarks, and we want the `serial` number and the link to an image of each trademark. Feel free to collect the `wordmark` if you like.\n",
    "\n",
    "\n",
    "Note: if you get asked if you're a bot, just complete the challenges manually."
   ]
  },
  {
   "cell_type": "code",
   "execution_count": 29,
   "id": "a500edfa-8cc0-46ac-b0ac-fa2aab1d5409",
   "metadata": {},
   "outputs": [],
   "source": [
    "import os\n",
    "import random\n",
    "import time\n",
    "\n",
    "from playwright.async_api import async_playwright, expect, Keyboard"
   ]
  },
  {
   "cell_type": "code",
   "execution_count": 2,
   "id": "a2bd602a-ce71-40eb-8cb6-b2fc6822bb39",
   "metadata": {},
   "outputs": [],
   "source": [
    "os.makedirs('data/', exist_ok=True)"
   ]
  },
  {
   "cell_type": "code",
   "execution_count": 45,
   "id": "d760ea0c-f3f4-44c8-9173-69406ae4443d",
   "metadata": {},
   "outputs": [],
   "source": [
    "user_agent = 'Mozilla/5.0 (Macintosh; Intel Mac OS X 10_15_7) AppleWebKit/537.36 (KHTML, like Gecko) Chrome/138.0.0.0 Safari/537.36'"
   ]
  },
  {
   "cell_type": "code",
   "execution_count": 4,
   "id": "bc65c8ba-2e6a-4e86-b324-53199ffb0612",
   "metadata": {},
   "outputs": [],
   "source": [
    "async def open_browser(headless=False, user_agent=user_agent):\n",
    "    \"\"\"\n",
    "    Starts the automated browser and opens a new window\n",
    "    \"\"\"\n",
    "    # Start playwright\n",
    "    playwright = await async_playwright().start()\n",
    "\n",
    "    # Open firefox browser, can use chromium (chrome) or others\n",
    "    browser = await playwright.TK\n",
    "\n",
    "    # set a user agent\n",
    "    context = await browser.new_context(user_agent=user_agent)\n",
    "  \n",
    "    # Create a new browser window\n",
    "    page = await browser.TK\n",
    "\n",
    "    return browser, page"
   ]
  },
  {
   "cell_type": "code",
   "execution_count": 70,
   "id": "e47730b2-6160-467b-a9fa-bdef095b4dda",
   "metadata": {},
   "outputs": [],
   "source": [
    "driver, page = await open_browser()"
   ]
  },
  {
   "cell_type": "code",
   "execution_count": 71,
   "id": "625bed66-0148-4d9c-9341-8624abd3189d",
   "metadata": {},
   "outputs": [
    {
     "data": {
      "text/plain": [
       "<Response url='https://tmsearch.uspto.gov/search/' request=<Request url='https://tmsearch.uspto.gov/search/' method='GET'>>"
      ]
     },
     "execution_count": 71,
     "metadata": {},
     "output_type": "execute_result"
    }
   ],
   "source": [
    "url = 'https://tmsearch.uspto.gov/search/'\n",
    "await page.TK(url)"
   ]
  },
  {
   "cell_type": "markdown",
   "id": "6f3e2561-4381-4c7a-9eb5-da583ae0bb43",
   "metadata": {},
   "source": [
    "Only search by the \"Owner\" of each trademark"
   ]
  },
  {
   "cell_type": "code",
   "execution_count": 73,
   "id": "75937cc6-2e24-4a63-9f7b-56ead009a18c",
   "metadata": {},
   "outputs": [],
   "source": [
    "xpath_search_options = '//TK'\n",
    "filter = page.locator(xpath_search_options)"
   ]
  },
  {
   "cell_type": "code",
   "execution_count": 74,
   "id": "8f371297-6b2d-40e4-98c7-a35ded350728",
   "metadata": {},
   "outputs": [],
   "source": [
    "await filter.click()"
   ]
  },
  {
   "cell_type": "code",
   "execution_count": 75,
   "id": "caa724d9-67e7-427f-bf80-4ae504ee1371",
   "metadata": {},
   "outputs": [],
   "source": [
    "xpath_option = '//TK'"
   ]
  },
  {
   "cell_type": "code",
   "execution_count": 76,
   "id": "03eca43a-a6f7-4888-adce-39b6cec1a314",
   "metadata": {},
   "outputs": [],
   "source": [
    "await page.locator(xpath_option).click()"
   ]
  },
  {
   "cell_type": "markdown",
   "id": "a507763e-ee46-49ac-abce-ca4dca7779b7",
   "metadata": {},
   "source": [
    "Find the search bar and input the search"
   ]
  },
  {
   "cell_type": "code",
   "execution_count": 77,
   "id": "73b9568c-a23b-4f05-b6ae-67423e1fb56f",
   "metadata": {},
   "outputs": [],
   "source": [
    "xpath_searchbar = '//TK'"
   ]
  },
  {
   "cell_type": "code",
   "execution_count": 78,
   "id": "c7d67209-4716-44dc-87b4-ac15a64a49ce",
   "metadata": {},
   "outputs": [],
   "source": [
    "search = page.locator(xpath_searchbar)"
   ]
  },
  {
   "cell_type": "code",
   "execution_count": 79,
   "id": "a8944f50-cc83-466f-8fa0-033f1d9c5053",
   "metadata": {},
   "outputs": [],
   "source": [
    "# Change this if you like\n",
    "company = 'Nike'"
   ]
  },
  {
   "cell_type": "code",
   "execution_count": 80,
   "id": "9179b5b6-b781-4da4-aaf7-23a4dfe14048",
   "metadata": {},
   "outputs": [],
   "source": [
    "await search.TK(company)"
   ]
  },
  {
   "cell_type": "markdown",
   "id": "a0f87185-f162-48e8-a887-b9c11dbc0632",
   "metadata": {},
   "source": [
    "Make the search"
   ]
  },
  {
   "cell_type": "code",
   "execution_count": 81,
   "id": "75c28d19-0b4f-45a9-8291-39208f7635f2",
   "metadata": {},
   "outputs": [],
   "source": [
    "await page.TK"
   ]
  },
  {
   "cell_type": "markdown",
   "id": "14f17d35-1ad8-4931-aac7-6890ad946ea8",
   "metadata": {},
   "source": [
    "Filter to only live contracts\n",
    "<br>In other words, filter out the dead ones."
   ]
  },
  {
   "cell_type": "code",
   "execution_count": 82,
   "id": "aa17d391-38fb-4f87-8ebd-b02a0ebef8e2",
   "metadata": {},
   "outputs": [],
   "source": [
    "xpath_filter = '//TK'"
   ]
  },
  {
   "cell_type": "code",
   "execution_count": 83,
   "id": "f3fa240e-c7a0-49bd-8dd9-220fdcc77668",
   "metadata": {},
   "outputs": [],
   "source": [
    "dead_button = page.locator(xpath_filter)"
   ]
  },
  {
   "cell_type": "code",
   "execution_count": 84,
   "id": "2f86a4b8-be81-41c4-bff9-1457b5469f71",
   "metadata": {},
   "outputs": [],
   "source": [
    "# click it\n",
    "await dead_button.TK"
   ]
  },
  {
   "cell_type": "markdown",
   "id": "cedb800a-649a-4594-91e4-0b3b549673d8",
   "metadata": {},
   "source": [
    "# Save results"
   ]
  },
  {
   "cell_type": "code",
   "execution_count": 48,
   "id": "01051c73-9f54-4f7f-87be-581d6d019cc2",
   "metadata": {},
   "outputs": [],
   "source": [
    "# how to save what the emulator sees\n",
    "source = await page.content()\n",
    "with open(f'data/trademarks_{company}.html', 'w') as f:\n",
    "    f.write(source)"
   ]
  },
  {
   "cell_type": "markdown",
   "id": "546f4887-ac1a-4cc8-ba38-c15c66383ebd",
   "metadata": {},
   "source": [
    "GO TO THE NEXT PAGE AND REPEAT"
   ]
  },
  {
   "cell_type": "code",
   "execution_count": 86,
   "id": "608d6493-8b8e-4123-8e14-696510eb5e78",
   "metadata": {},
   "outputs": [],
   "source": [
    "# this is the next page button\n",
    "xpath_next = '//TK'"
   ]
  },
  {
   "cell_type": "code",
   "execution_count": 90,
   "id": "69d0c218-67bf-4395-9a1d-90efa87457fc",
   "metadata": {},
   "outputs": [],
   "source": [
    "# What is the xpath for a result, make sure this is visible before going to next page.\n",
    "xpath_result = '//TK'"
   ]
  },
  {
   "cell_type": "code",
   "execution_count": 66,
   "id": "a0a13a6e-4a5b-4a0c-9412-912eede74fcf",
   "metadata": {},
   "outputs": [],
   "source": [
    "next_button = page.locator(xpath_next)"
   ]
  },
  {
   "cell_type": "code",
   "execution_count": 67,
   "id": "006acae7-bd8e-467d-9fae-8e0ef4a18db0",
   "metadata": {},
   "outputs": [],
   "source": [
    "await expect(next_button).to_be_visible()"
   ]
  },
  {
   "cell_type": "code",
   "execution_count": 68,
   "id": "d096426e-8e34-4d7b-9391-dd57240e7bbf",
   "metadata": {},
   "outputs": [],
   "source": [
    "await next_button.click()"
   ]
  },
  {
   "cell_type": "code",
   "execution_count": 95,
   "id": "4ccc567e-ef01-419f-a3a5-b6e1b8c5a7f5",
   "metadata": {},
   "outputs": [],
   "source": [
    "# Here we'll put it all together and iterate through.\n",
    "# There are many ways to do this\n",
    "i = 1\n",
    "collect = True\n",
    "while collect:\n",
    "    # check the next button is visible\n",
    "    # if await page.is_visible(xpath_next, timeout=100):\n",
    "\n",
    "    # note changes\n",
    "    try:\n",
    "        await expect(page.locator(xpath_next)).to_be_visible(timeout=1000)\n",
    "        # click the next button\n",
    "        next_button = page.locator(xpath_next)\n",
    "        await next_button.click()\n",
    "\n",
    "        # make sure the search result is visible\n",
    "        await page.locator(xpath_result).is_visible()\n",
    "\n",
    "        # save the contents\n",
    "        source = await page.content()\n",
    "        with open(f'data/trademarks_{company}_{i}.html', 'w') as f:\n",
    "            f.write(source)\n",
    "        i += 1\n",
    "    # else:\n",
    "    except Exception as e:\n",
    "        collect = False\n",
    "        break"
   ]
  },
  {
   "cell_type": "markdown",
   "id": "a673d75c-2f79-43a7-93d9-1cca1afeae6b",
   "metadata": {},
   "source": [
    "## Parse the contents"
   ]
  },
  {
   "cell_type": "code",
   "execution_count": 107,
   "id": "f2249a32-1eaa-4adb-afb8-6261b7106607",
   "metadata": {},
   "outputs": [],
   "source": [
    "import glob\n",
    "import pandas as pd\n",
    "from lxml import etree, html"
   ]
  },
  {
   "cell_type": "code",
   "execution_count": 101,
   "id": "077d7d6a-83cc-4a6e-aa95-1d526e69e2d0",
   "metadata": {},
   "outputs": [],
   "source": [
    "# list the scraped pages to pars them\n",
    "files = glob.glob('data/trademarks*.html')"
   ]
  },
  {
   "cell_type": "code",
   "execution_count": 140,
   "id": "bc6f52ee-dd17-4375-b19e-9794f9b80730",
   "metadata": {},
   "outputs": [],
   "source": [
    "# A trademark entry\n",
    "xpath_trademark_cards = './/TK'\n",
    "# the serial number\n",
    "xpath_serial = './/TK'"
   ]
  },
  {
   "cell_type": "code",
   "execution_count": 177,
   "id": "12fe6f16-7423-4f7e-b004-09f2036bf44f",
   "metadata": {
    "scrolled": true
   },
   "outputs": [
    {
     "name": "stderr",
     "output_type": "stream",
     "text": [
      "/var/folders/sj/0bmsn0t57yb1tzg0xyg_9thm0000gq/T/ipykernel_47558/2386750351.py:10: FutureWarning: The behavior of this method will change in future versions. Use specific 'len(elem)' or 'elem is not None' test instead.\n",
      "  if img:\n"
     ]
    }
   ],
   "source": [
    "data = []\n",
    "for fn in files:\n",
    "    # read into a XML tree from a string\n",
    "    tree = html.fromstring(open(fn).read())\n",
    "    trademarks = tree.findall(xpath_trademark_cards)\n",
    "    for trademark in trademarks:\n",
    "        serial = trademark.find(xpath_serial)\n",
    "        # get the images also\n",
    "        # img = trademark.find('.//img')\n",
    "        # if img:\n",
    "        #     img_url = img.get('src',)\n",
    "        \n",
    "        # note this change here:\n",
    "        img_url = trademark.findall('.//img')\n",
    "        if img_url:\n",
    "            img_url = img_url[0].get('src')\n",
    "        else:\n",
    "            img_url = None\n",
    "        \n",
    "        row = {'serial' : serial.text, 'img_url': img_url}\n",
    "        data.append(row)"
   ]
  },
  {
   "cell_type": "code",
   "execution_count": 175,
   "id": "2859a89f-7aab-4992-b70c-d7c53b259311",
   "metadata": {},
   "outputs": [
    {
     "data": {
      "text/html": [
       "<div>\n",
       "<style scoped>\n",
       "    .dataframe tbody tr th:only-of-type {\n",
       "        vertical-align: middle;\n",
       "    }\n",
       "\n",
       "    .dataframe tbody tr th {\n",
       "        vertical-align: top;\n",
       "    }\n",
       "\n",
       "    .dataframe thead th {\n",
       "        text-align: right;\n",
       "    }\n",
       "</style>\n",
       "<table border=\"1\" class=\"dataframe\">\n",
       "  <thead>\n",
       "    <tr style=\"text-align: right;\">\n",
       "      <th></th>\n",
       "      <th>serial</th>\n",
       "      <th>img_url</th>\n",
       "    </tr>\n",
       "  </thead>\n",
       "  <tbody>\n",
       "    <tr>\n",
       "      <th>0</th>\n",
       "      <td>88872671</td>\n",
       "      <td>https://tmcms-docs.uspto.gov/cases/75000070/ma...</td>\n",
       "    </tr>\n",
       "    <tr>\n",
       "      <th>1</th>\n",
       "      <td>98005404</td>\n",
       "      <td>https://tmcms-docs.uspto.gov/cases/75000070/ma...</td>\n",
       "    </tr>\n",
       "    <tr>\n",
       "      <th>2</th>\n",
       "      <td>88831783</td>\n",
       "      <td>https://tmcms-docs.uspto.gov/cases/75000070/ma...</td>\n",
       "    </tr>\n",
       "    <tr>\n",
       "      <th>3</th>\n",
       "      <td>90731895</td>\n",
       "      <td>https://tmcms-docs.uspto.gov/cases/75000070/ma...</td>\n",
       "    </tr>\n",
       "    <tr>\n",
       "      <th>4</th>\n",
       "      <td>90492296</td>\n",
       "      <td>https://tmcms-docs.uspto.gov/cases/75000070/ma...</td>\n",
       "    </tr>\n",
       "  </tbody>\n",
       "</table>\n",
       "</div>"
      ],
      "text/plain": [
       "     serial                                            img_url\n",
       "0  88872671  https://tmcms-docs.uspto.gov/cases/75000070/ma...\n",
       "1  98005404  https://tmcms-docs.uspto.gov/cases/75000070/ma...\n",
       "2  88831783  https://tmcms-docs.uspto.gov/cases/75000070/ma...\n",
       "3  90731895  https://tmcms-docs.uspto.gov/cases/75000070/ma...\n",
       "4  90492296  https://tmcms-docs.uspto.gov/cases/75000070/ma..."
      ]
     },
     "execution_count": 175,
     "metadata": {},
     "output_type": "execute_result"
    }
   ],
   "source": [
    "df = pd.DataFrame(data)\n",
    "df.head(5)"
   ]
  },
  {
   "cell_type": "code",
   "execution_count": 176,
   "id": "7bb9349c-d63a-4464-9694-bf25acd3cb4f",
   "metadata": {},
   "outputs": [],
   "source": [
    "df.to_csv('data/trademarks.csv', index=False)"
   ]
  }
 ],
 "metadata": {
  "kernelspec": {
   "display_name": "Python 3 (ipykernel)",
   "language": "python",
   "name": "python3"
  },
  "language_info": {
   "codemirror_mode": {
    "name": "ipython",
    "version": 3
   },
   "file_extension": ".py",
   "mimetype": "text/x-python",
   "name": "python",
   "nbconvert_exporter": "python",
   "pygments_lexer": "ipython3",
   "version": "3.11.4"
  }
 },
 "nbformat": 4,
 "nbformat_minor": 5
}
