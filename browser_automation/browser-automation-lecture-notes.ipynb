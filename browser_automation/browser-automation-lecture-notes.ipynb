{
 "cells": [
  {
   "cell_type": "markdown",
   "id": "86bda04e",
   "metadata": {},
   "source": [
    "# Browser Automation Lecture Notes\n",
    "Date: 2025-07-09\n",
    "\n",
    "We'll use this notebook to work through some examples and showcase some essential functions in Playwright."
   ]
  },
  {
   "cell_type": "code",
   "execution_count": 1,
   "id": "e3eacf1b-6b12-4870-85bd-95e9c2c302b8",
   "metadata": {
    "collapsed": true,
    "jupyter": {
     "outputs_hidden": true
    },
    "scrolled": true
   },
   "outputs": [
    {
     "name": "stdout",
     "output_type": "stream",
     "text": [
      "Requirement already satisfied: ipykernel==6.28.0 in /Users/lyin72/miniconda3/lib/python3.11/site-packages (6.28.0)\n",
      "Requirement already satisfied: appnope in /Users/lyin72/miniconda3/lib/python3.11/site-packages (from ipykernel==6.28.0) (0.1.3)\n",
      "Requirement already satisfied: comm>=0.1.1 in /Users/lyin72/miniconda3/lib/python3.11/site-packages (from ipykernel==6.28.0) (0.1.4)\n",
      "Requirement already satisfied: debugpy>=1.6.5 in /Users/lyin72/miniconda3/lib/python3.11/site-packages (from ipykernel==6.28.0) (1.6.7.post1)\n",
      "Requirement already satisfied: ipython>=7.23.1 in /Users/lyin72/miniconda3/lib/python3.11/site-packages (from ipykernel==6.28.0) (8.14.0)\n",
      "Requirement already satisfied: jupyter-client>=6.1.12 in /Users/lyin72/miniconda3/lib/python3.11/site-packages (from ipykernel==6.28.0) (8.3.0)\n",
      "Requirement already satisfied: jupyter-core!=5.0.*,>=4.12 in /Users/lyin72/miniconda3/lib/python3.11/site-packages (from ipykernel==6.28.0) (5.3.1)\n",
      "Requirement already satisfied: matplotlib-inline>=0.1 in /Users/lyin72/miniconda3/lib/python3.11/site-packages (from ipykernel==6.28.0) (0.1.6)\n",
      "Requirement already satisfied: nest-asyncio in /Users/lyin72/miniconda3/lib/python3.11/site-packages (from ipykernel==6.28.0) (1.5.7)\n",
      "Requirement already satisfied: packaging in /Users/lyin72/miniconda3/lib/python3.11/site-packages (from ipykernel==6.28.0) (23.0)\n",
      "Requirement already satisfied: psutil in /Users/lyin72/miniconda3/lib/python3.11/site-packages (from ipykernel==6.28.0) (5.9.5)\n",
      "Requirement already satisfied: pyzmq>=24 in /Users/lyin72/miniconda3/lib/python3.11/site-packages (from ipykernel==6.28.0) (25.1.1)\n",
      "Requirement already satisfied: tornado>=6.1 in /Users/lyin72/miniconda3/lib/python3.11/site-packages (from ipykernel==6.28.0) (6.3.3)\n",
      "Requirement already satisfied: traitlets>=5.4.0 in /Users/lyin72/miniconda3/lib/python3.11/site-packages (from ipykernel==6.28.0) (5.9.0)\n",
      "Requirement already satisfied: backcall in /Users/lyin72/miniconda3/lib/python3.11/site-packages (from ipython>=7.23.1->ipykernel==6.28.0) (0.2.0)\n",
      "Requirement already satisfied: decorator in /Users/lyin72/miniconda3/lib/python3.11/site-packages (from ipython>=7.23.1->ipykernel==6.28.0) (5.1.1)\n",
      "Requirement already satisfied: jedi>=0.16 in /Users/lyin72/miniconda3/lib/python3.11/site-packages (from ipython>=7.23.1->ipykernel==6.28.0) (0.19.0)\n",
      "Requirement already satisfied: pickleshare in /Users/lyin72/miniconda3/lib/python3.11/site-packages (from ipython>=7.23.1->ipykernel==6.28.0) (0.7.5)\n",
      "Requirement already satisfied: prompt-toolkit!=3.0.37,<3.1.0,>=3.0.30 in /Users/lyin72/miniconda3/lib/python3.11/site-packages (from ipython>=7.23.1->ipykernel==6.28.0) (3.0.39)\n",
      "Requirement already satisfied: pygments>=2.4.0 in /Users/lyin72/miniconda3/lib/python3.11/site-packages (from ipython>=7.23.1->ipykernel==6.28.0) (2.16.1)\n",
      "Requirement already satisfied: stack-data in /Users/lyin72/miniconda3/lib/python3.11/site-packages (from ipython>=7.23.1->ipykernel==6.28.0) (0.6.2)\n",
      "Requirement already satisfied: pexpect>4.3 in /Users/lyin72/miniconda3/lib/python3.11/site-packages (from ipython>=7.23.1->ipykernel==6.28.0) (4.8.0)\n",
      "Requirement already satisfied: python-dateutil>=2.8.2 in /Users/lyin72/miniconda3/lib/python3.11/site-packages (from jupyter-client>=6.1.12->ipykernel==6.28.0) (2.8.2)\n",
      "Requirement already satisfied: platformdirs>=2.5 in /Users/lyin72/miniconda3/lib/python3.11/site-packages (from jupyter-core!=5.0.*,>=4.12->ipykernel==6.28.0) (3.10.0)\n",
      "Requirement already satisfied: parso<0.9.0,>=0.8.3 in /Users/lyin72/miniconda3/lib/python3.11/site-packages (from jedi>=0.16->ipython>=7.23.1->ipykernel==6.28.0) (0.8.3)\n",
      "Requirement already satisfied: ptyprocess>=0.5 in /Users/lyin72/miniconda3/lib/python3.11/site-packages (from pexpect>4.3->ipython>=7.23.1->ipykernel==6.28.0) (0.7.0)\n",
      "Requirement already satisfied: wcwidth in /Users/lyin72/miniconda3/lib/python3.11/site-packages (from prompt-toolkit!=3.0.37,<3.1.0,>=3.0.30->ipython>=7.23.1->ipykernel==6.28.0) (0.2.6)\n",
      "Requirement already satisfied: six>=1.5 in /Users/lyin72/miniconda3/lib/python3.11/site-packages (from python-dateutil>=2.8.2->jupyter-client>=6.1.12->ipykernel==6.28.0) (1.16.0)\n",
      "Requirement already satisfied: executing>=1.2.0 in /Users/lyin72/miniconda3/lib/python3.11/site-packages (from stack-data->ipython>=7.23.1->ipykernel==6.28.0) (1.2.0)\n",
      "Requirement already satisfied: asttokens>=2.1.0 in /Users/lyin72/miniconda3/lib/python3.11/site-packages (from stack-data->ipython>=7.23.1->ipykernel==6.28.0) (2.2.1)\n",
      "Requirement already satisfied: pure-eval in /Users/lyin72/miniconda3/lib/python3.11/site-packages (from stack-data->ipython>=7.23.1->ipykernel==6.28.0) (0.2.2)\n"
     ]
    }
   ],
   "source": [
    "!pip install ipykernel==6.28.0"
   ]
  },
  {
   "cell_type": "code",
   "execution_count": 9,
   "id": "3c4fdd7b",
   "metadata": {},
   "outputs": [],
   "source": [
    "import os\n",
    "import random\n",
    "import time\n",
    "\n",
    "from playwright.async_api import async_playwright, expect"
   ]
  },
  {
   "cell_type": "code",
   "execution_count": 3,
   "id": "f9c719cc-1a3c-45e6-800b-3d01e6465d38",
   "metadata": {
    "collapsed": true,
    "jupyter": {
     "outputs_hidden": true
    }
   },
   "outputs": [
    {
     "name": "stdout",
     "output_type": "stream",
     "text": [
      "Requirement already satisfied: playwright in /Users/lyin72/miniconda3/lib/python3.11/site-packages (1.44.0)\n",
      "Requirement already satisfied: greenlet==3.0.3 in /Users/lyin72/miniconda3/lib/python3.11/site-packages (from playwright) (3.0.3)\n",
      "Requirement already satisfied: pyee==11.1.0 in /Users/lyin72/miniconda3/lib/python3.11/site-packages (from playwright) (11.1.0)\n",
      "Requirement already satisfied: typing-extensions in /Users/lyin72/miniconda3/lib/python3.11/site-packages (from pyee==11.1.0->playwright) (4.12.2)\n"
     ]
    }
   ],
   "source": [
    "!pip install playwright"
   ]
  },
  {
   "cell_type": "code",
   "execution_count": 4,
   "id": "4a3907ea-821a-45d7-b3b2-238648781522",
   "metadata": {},
   "outputs": [
    {
     "name": "stdout",
     "output_type": "stream",
     "text": [
      "/Users/lyin72/miniconda3/bin/playwright\n"
     ]
    }
   ],
   "source": [
    "!which playwright"
   ]
  },
  {
   "cell_type": "code",
   "execution_count": 5,
   "id": "5a925cd8-2db4-4f86-ae6b-2ccce0bc3dd6",
   "metadata": {},
   "outputs": [],
   "source": [
    "!playwright install"
   ]
  },
  {
   "cell_type": "code",
   "execution_count": 10,
   "id": "3eddd175",
   "metadata": {},
   "outputs": [],
   "source": [
    "os.makedirs('data/', exist_ok=True)"
   ]
  },
  {
   "cell_type": "code",
   "execution_count": 11,
   "id": "7e025cfe-598b-4884-9f02-71eb28c4255b",
   "metadata": {},
   "outputs": [],
   "source": [
    "# Start the browser\n",
    "playwright = await async_playwright().start()"
   ]
  },
  {
   "cell_type": "code",
   "execution_count": 13,
   "id": "a231db76-64b5-4185-bf1f-8032636ff799",
   "metadata": {},
   "outputs": [],
   "source": [
    "browser = await playwright.chromium.launch(headless=False)\n",
    "page = await browser.new_page()\n",
    "# await browser.close()"
   ]
  },
  {
   "cell_type": "code",
   "execution_count": 14,
   "id": "f1cab47d-3cd2-45b8-8846-5c3e9c6c6a52",
   "metadata": {},
   "outputs": [],
   "source": [
    "await browser.close()"
   ]
  },
  {
   "cell_type": "code",
   "execution_count": 15,
   "id": "2dddc486",
   "metadata": {},
   "outputs": [],
   "source": [
    "async def open_browser(headless=False):\n",
    "    \"\"\"\n",
    "    Starts the automated browser and opens a new window\n",
    "    \"\"\"\n",
    "    # Start playwright\n",
    "    playwright = await async_playwright().start()\n",
    "\n",
    "    # Open chromium (chrome) browser, can use firefox or others\n",
    "    browser = await playwright.chromium.launch(headless=headless)\n",
    "  \n",
    "    # Create a new browser window\n",
    "    page = await browser.new_page()\n",
    "\n",
    "    return browser, page"
   ]
  },
  {
   "cell_type": "code",
   "execution_count": 49,
   "id": "1a1b8eb3",
   "metadata": {},
   "outputs": [],
   "source": [
    "driver, page = await open_browser()"
   ]
  },
  {
   "cell_type": "code",
   "execution_count": 50,
   "id": "aba745a4",
   "metadata": {},
   "outputs": [
    {
     "data": {
      "text/plain": [
       "<Response url='https://www.amazon.com/' request=<Request url='https://www.amazon.com/' method='GET'>>"
      ]
     },
     "execution_count": 50,
     "metadata": {},
     "output_type": "execute_result"
    }
   ],
   "source": [
    "# visit a URL\n",
    "url = 'https://amazon.com'\n",
    "await page.goto(url)"
   ]
  },
  {
   "cell_type": "markdown",
   "id": "8232b625",
   "metadata": {},
   "source": [
    "## XPATH\n",
    "You learned about beautifulSoup to work with HTML...\n",
    "\n",
    "Xpath is another way to navigate hierarchical structures of HTML and SVG\n",
    "\n",
    "It's fast, versatile, and can be used in the developer console and in any computing language."
   ]
  },
  {
   "cell_type": "markdown",
   "id": "2cfe1a48",
   "metadata": {},
   "source": [
    "## Using XPATH\n",
    "You can test xpaths in the devloper tools under the `console` tab using the function `$x()`. Read about that function [here](https://developer.chrome.com/docs/devtools/console/utilities/#xpath-function).\n",
    "\n",
    "\n",
    "You can use Playwright's `locator` [function](https://playwright.dev/python/docs/locators#locate-by-css-or-xpath) to find the search box on Amazon site using an xpath or css selector. It'll return the first match unless you add `.all()` to the located elements.\n",
    "\n",
    "Playwright allows other [locators](https://playwright.dev/python/docs/locators#quick-guide), which the developers suggest (but I don't)."
   ]
  },
  {
   "cell_type": "markdown",
   "id": "a7de9e13",
   "metadata": {},
   "source": [
    "Example of an xpath!\n",
    "\n",
    "//input[@aria-label=\"Search Amazon\"]"
   ]
  },
  {
   "cell_type": "markdown",
   "id": "d6e5a854-0b8f-4b20-8728-721a8bb234cc",
   "metadata": {},
   "source": [
    "### Finding elements and performing actons\n",
    "Browser automation is largely about locating elements on the page, and interacting with them in some way.\n",
    "This can involve filling forms, mocking pressing buttons on a keyboard, clicking things."
   ]
  },
  {
   "cell_type": "code",
   "execution_count": 51,
   "id": "ad7ac28b-2a6e-45b3-aa9e-29f8dc175209",
   "metadata": {},
   "outputs": [],
   "source": [
    "# here's how you can do that with xpath\n",
    "search_bar = page.locator(\n",
    "    '//input[@aria-label=\"Search Amazon\"]'\n",
    ")"
   ]
  },
  {
   "cell_type": "code",
   "execution_count": 22,
   "id": "c5765e81-f9c7-4942-8131-962e4157e4b4",
   "metadata": {},
   "outputs": [
    {
     "data": {
      "text/plain": [
       "<Locator frame=<Frame name= url='https://www.amazon.com/'> selector='//input[@aria-label=\"Search Amazon\"]'>"
      ]
     },
     "execution_count": 22,
     "metadata": {},
     "output_type": "execute_result"
    }
   ],
   "source": [
    "search_bar"
   ]
  },
  {
   "cell_type": "markdown",
   "id": "ab787af0-e87f-47f6-a1f9-9007db1d5cfc",
   "metadata": {},
   "source": [
    "You can also use the built-in functionality by exploiting the placeholder text\n",
    "```\n",
    "page.get_by_placeholder(\"Search Amazon\")\n",
    "```"
   ]
  },
  {
   "cell_type": "markdown",
   "id": "68b55acb-d39c-430c-b18d-265275a8cd72",
   "metadata": {},
   "source": [
    "Let's fill in the search bar."
   ]
  },
  {
   "cell_type": "code",
   "execution_count": 23,
   "id": "cd278c67-d047-4308-b30b-1a8195bcddac",
   "metadata": {},
   "outputs": [],
   "source": [
    "await search_bar.fill('TEST')"
   ]
  },
  {
   "cell_type": "code",
   "execution_count": 52,
   "id": "2934f057",
   "metadata": {},
   "outputs": [],
   "source": [
    "search_term = 'cool shirt'\n",
    "await search_bar.fill(search_term)"
   ]
  },
  {
   "cell_type": "markdown",
   "id": "56658db4-b8a6-4f30-b15e-4d80a49b8809",
   "metadata": {},
   "source": [
    "You can make the search either by inputting the \"Enter\" button, or finding the search button and clicking it.\n",
    "\n",
    "Here's how you can press a [keyboard](https://playwright.dev/docs/api/class-keyboard) button."
   ]
  },
  {
   "cell_type": "code",
   "execution_count": 53,
   "id": "54469b13",
   "metadata": {},
   "outputs": [],
   "source": [
    "await page.keyboard.press(\"Enter\")"
   ]
  },
  {
   "cell_type": "markdown",
   "id": "1a1a5aaa-cb18-48ac-b24b-66ed18d3d94d",
   "metadata": {},
   "source": [
    "Alternatively, you can locate the button perform an [action](https://playwright.dev/python/docs/input#mouse-click) such as a mouse `click`."
   ]
  },
  {
   "cell_type": "code",
   "execution_count": 27,
   "id": "70236f78-d106-4627-ad66-58ca6086708d",
   "metadata": {},
   "outputs": [],
   "source": [
    "search_button = page.locator(\n",
    "    '//input[@id=\"nav-search-submit-button\"]'\n",
    ")\n",
    "await search_button.click()"
   ]
  },
  {
   "cell_type": "code",
   "execution_count": null,
   "id": "0a78636d-a6ae-4a9b-b909-3347a1ebf228",
   "metadata": {},
   "outputs": [],
   "source": []
  },
  {
   "cell_type": "markdown",
   "id": "5faa8a52",
   "metadata": {},
   "source": [
    "### Parse the products\n",
    "\n",
    "For each product, let's print the brand name:"
   ]
  },
  {
   "cell_type": "code",
   "execution_count": 36,
   "id": "d2f74326-4ac2-4362-8751-c304f0197e05",
   "metadata": {},
   "outputs": [
    {
     "name": "stderr",
     "output_type": "stream",
     "text": [
      "/var/folders/sj/0bmsn0t57yb1tzg0xyg_9thm0000gq/T/ipykernel_96454/988507552.py:3: RuntimeWarning: coroutine 'Locator.all' was never awaited\n",
      "  product_tiles = await page.locator(xpath_product).all()\n",
      "RuntimeWarning: Enable tracemalloc to get the object allocation traceback\n"
     ]
    },
    {
     "data": {
      "text/plain": [
       "60"
      ]
     },
     "execution_count": 36,
     "metadata": {},
     "output_type": "execute_result"
    }
   ],
   "source": [
    "# contains supports substring matches\n",
    "xpath_product = '//div[contains(@cel_widget_id, \"MAIN-SEARCH_RESULTS-\")]'\n",
    "product_tiles = await page.locator(xpath_product).all()\n",
    "len(product_tiles)"
   ]
  },
  {
   "cell_type": "code",
   "execution_count": 54,
   "id": "d9b4f03f-90a5-4d70-9bb9-83f7c198b7c0",
   "metadata": {},
   "outputs": [
    {
     "data": {
      "text/plain": [
       "60"
      ]
     },
     "execution_count": 54,
     "metadata": {},
     "output_type": "execute_result"
    }
   ],
   "source": [
    "# same as above, but does not use substring match\n",
    "xpath_product = '//div[@data-component-type=\"s-search-result\"]'\n",
    "product_tiles = await page.locator(xpath_product).all()\n",
    "len(product_tiles)"
   ]
  },
  {
   "cell_type": "code",
   "execution_count": 39,
   "id": "ec616b1a-0874-4d41-920d-8252d4584e6d",
   "metadata": {},
   "outputs": [
    {
     "data": {
      "text/plain": [
       "<Locator frame=<Frame name= url='https://www.amazon.com/s?k=cool+shirt&crid=SQDCPMTPLQL2&sprefix=cool+shirt%2Caps%2C110&ref=nb_sb_noss_1'> selector='//div[@data-component-type=\"s-search-result\"] >> nth=0'>"
      ]
     },
     "execution_count": 39,
     "metadata": {},
     "output_type": "execute_result"
    }
   ],
   "source": [
    "product_tiles[0]"
   ]
  },
  {
   "cell_type": "code",
   "execution_count": 34,
   "id": "4246ed5f-a257-49e7-b42d-98752a985222",
   "metadata": {},
   "outputs": [
    {
     "data": {
      "text/plain": [
       "<Locator frame=<Frame name= url='https://www.amazon.com/s?k=cool+shirt&crid=SQDCPMTPLQL2&sprefix=cool+shirt%2Caps%2C110&ref=nb_sb_noss_1'> selector='//div[@data-component-type=\"s-search-result\"]'>"
      ]
     },
     "execution_count": 34,
     "metadata": {},
     "output_type": "execute_result"
    }
   ],
   "source": [
    "# this is what it looks like to get ONE thing (always the first)\n",
    "product_tile = page.locator(xpath_product)\n",
    "product_tile"
   ]
  },
  {
   "cell_type": "markdown",
   "id": "d21718da-4382-4b6d-a21e-33d49bca49d1",
   "metadata": {},
   "source": [
    "Notice we're adding `.all()` to the command, this will return a list, rather than the first element.\n",
    "\n",
    "If you run all the cells at once, the above will return zero results. This is because the browser needs to await for the element to be visible.\n",
    "\n",
    "You can force the browser to sleep or check the element is visible using the `expect` [function](https://playwright.dev/python/docs/test-assertions)."
   ]
  },
  {
   "cell_type": "code",
   "execution_count": 40,
   "id": "7722715b-5fa8-4471-9120-60fa5a3b6b35",
   "metadata": {},
   "outputs": [],
   "source": [
    "# Let's wait for the first product to load\n",
    "await expect(page.locator(xpath_product).first).to_be_visible()"
   ]
  },
  {
   "cell_type": "code",
   "execution_count": 41,
   "id": "064dbf4a-a27c-4c88-9eef-2b130813c73f",
   "metadata": {},
   "outputs": [
    {
     "data": {
      "text/plain": [
       "60"
      ]
     },
     "execution_count": 41,
     "metadata": {},
     "output_type": "execute_result"
    }
   ],
   "source": [
    "# run it again, after waiting for the elements to be rendered\n",
    "product_tiles = await page.locator(xpath_product).all()\n",
    "len(product_tiles)"
   ]
  },
  {
   "cell_type": "markdown",
   "id": "ddf255ec-2208-4b16-b041-d65114fa307a",
   "metadata": {},
   "source": [
    "This is the sleeping method"
   ]
  },
  {
   "cell_type": "code",
   "execution_count": 22,
   "id": "405386af-41b1-4bdb-9a44-955c5dd2f192",
   "metadata": {},
   "outputs": [],
   "source": [
    "# import asyncio\n",
    "\n",
    "# await asyncio.sleep(2)\n",
    "# product_tiles = await page.locator(xpath_product).all()"
   ]
  },
  {
   "cell_type": "markdown",
   "id": "31e0b1be-c168-4062-9338-eff4bba3cc50",
   "metadata": {},
   "source": [
    "Let's parse one product"
   ]
  },
  {
   "cell_type": "code",
   "execution_count": 42,
   "id": "7c4a09f6",
   "metadata": {},
   "outputs": [],
   "source": [
    "prod = product_tiles[0]"
   ]
  },
  {
   "cell_type": "code",
   "execution_count": null,
   "id": "eba7a203-5814-45dc-93b9-d1e98d5a353a",
   "metadata": {},
   "outputs": [],
   "source": [
    "prod"
   ]
  },
  {
   "cell_type": "code",
   "execution_count": 43,
   "id": "0bb1ca3b-7f09-4264-8bde-95a1a1607070",
   "metadata": {
    "collapsed": true,
    "jupyter": {
     "outputs_hidden": true
    }
   },
   "outputs": [
    {
     "data": {
      "text/plain": [
       "'\\n\\n\\n\\n    \\n\\n\\n\\n    +9 other colors/patternsFeatured from Amazon brandsFeatured from Amazon brands Amazon EssentialsSlim-Fit Long Sleeve Shirt for Men, Pocket and No Pocket Styles 4.3 out of 5 stars 7,882  50+ bought in past monthPrime Day DealPrice, product page$9.68$9.68 Typical price: $12.30Typical price: $12.30$12.30Exclusive Prime priceFREE delivery Mon, Jul 14 on $35 of items shipped by AmazonOr fastest delivery Tomorrow, Jul 10  1 sustainability feature<img alt=\"\" src=\"https://m.media-amazon.com/images/I/11++B3A2NEL.png\" height=\"24px\" width=\"24px\"/>  Sustainability featuresThis product has sustainability features recognized by trusted certifications. Safer chemicalsMade with chemicals safer for human health and the environment.As certified by<img alt=\"\" src=\"https://m.media-amazon.com/images/I/51YvKwF01yL._SS200_.jpg\" height=\"24px\" width=\"24px\"/>  OEKO-TEX STANDARD 100Learn more about OEKO-TEX STANDARD 100<img alt=\"\" src=\"https://m.media-amazon.com/images/I/51YvKwF01yL._SS200_.jpg\" height=\"36px\" width=\"36px\"/> OEKO-TEX STANDARD 100OEKO-TEX® STANDARD 100 certified products require every component of a textiles production including all thread, buttons, and trims to be tested against a list of more than 1,000 regulated and unregulated chemicals which may be harmful to human health and the enviornment. The assessment process is globally standardized,  independently conducted, and updated at least once per year based on new scientific information or regulatory requirements.Certification Number23.HTW.30561<img alt=\"Climate Pledge Friendly\" src=\"https://m.media-amazon.com/images/I/21AGu0JFvKL.svg\" height=\"24px\" width=\"186px\"/> Discover more products with sustainability features. Learn more See options\\n\\n\\n\\n'"
      ]
     },
     "execution_count": 43,
     "metadata": {},
     "output_type": "execute_result"
    }
   ],
   "source": [
    "# see the text of the element\n",
    "await prod.text_content()"
   ]
  },
  {
   "cell_type": "markdown",
   "id": "21df89ce",
   "metadata": {},
   "source": [
    "Let's iterate through each product and print the brand name, which is saved as a header (h2) with a unique class in the element:"
   ]
  },
  {
   "cell_type": "code",
   "execution_count": 59,
   "id": "7c78c2e0-e420-4452-9138-7a0c9e6572ad",
   "metadata": {},
   "outputs": [],
   "source": [
    "from tqdm import tqdm"
   ]
  },
  {
   "cell_type": "code",
   "execution_count": 60,
   "id": "57a24ac6",
   "metadata": {
    "collapsed": true,
    "jupyter": {
     "outputs_hidden": true
    }
   },
   "outputs": [
    {
     "name": "stderr",
     "output_type": "stream",
     "text": [
      " 60%|████████████████████████                | 36/60 [00:30<00:20,  1.19it/s]\n"
     ]
    },
    {
     "ename": "TimeoutError",
     "evalue": "Locator.text_content: Timeout 30000ms exceeded.\nCall log:\nwaiting for locator(\"//div[@data-component-type=\\\"s-search-result\\\"]\").nth(36).locator(\"//span[@id=\\\"price-link\\\"]\")\n",
     "output_type": "error",
     "traceback": [
      "\u001b[0;31m---------------------------------------------------------------------------\u001b[0m",
      "\u001b[0;31mTimeoutError\u001b[0m                              Traceback (most recent call last)",
      "Cell \u001b[0;32mIn[60], line 9\u001b[0m\n\u001b[1;32m      7\u001b[0m \u001b[38;5;28;01mfor\u001b[39;00m product \u001b[38;5;129;01min\u001b[39;00m tqdm(product_tiles):\n\u001b[1;32m      8\u001b[0m     brand \u001b[38;5;241m=\u001b[39m \u001b[38;5;28;01mawait\u001b[39;00m product\u001b[38;5;241m.\u001b[39mlocator(xpath_brand)\u001b[38;5;241m.\u001b[39mtext_content()\n\u001b[0;32m----> 9\u001b[0m     price \u001b[38;5;241m=\u001b[39m \u001b[38;5;28;01mawait\u001b[39;00m product\u001b[38;5;241m.\u001b[39mlocator(xpath_price)\u001b[38;5;241m.\u001b[39mtext_content()\n\u001b[1;32m     10\u001b[0m     row \u001b[38;5;241m=\u001b[39m {\n\u001b[1;32m     11\u001b[0m         \u001b[38;5;124m'\u001b[39m\u001b[38;5;124mbrand\u001b[39m\u001b[38;5;124m'\u001b[39m : brand,\n\u001b[1;32m     12\u001b[0m         \u001b[38;5;124m'\u001b[39m\u001b[38;5;124mprice\u001b[39m\u001b[38;5;124m'\u001b[39m: price    \n\u001b[1;32m     13\u001b[0m     }\n\u001b[1;32m     14\u001b[0m     data\u001b[38;5;241m.\u001b[39mappend(row)\n",
      "File \u001b[0;32m~/miniconda3/lib/python3.11/site-packages/playwright/async_api/_generated.py:16927\u001b[0m, in \u001b[0;36mLocator.text_content\u001b[0;34m(self, timeout)\u001b[0m\n\u001b[1;32m  16905\u001b[0m \u001b[38;5;28;01masync\u001b[39;00m \u001b[38;5;28;01mdef\u001b[39;00m \u001b[38;5;21mtext_content\u001b[39m(\n\u001b[1;32m  16906\u001b[0m     \u001b[38;5;28mself\u001b[39m, \u001b[38;5;241m*\u001b[39m, timeout: typing\u001b[38;5;241m.\u001b[39mOptional[\u001b[38;5;28mfloat\u001b[39m] \u001b[38;5;241m=\u001b[39m \u001b[38;5;28;01mNone\u001b[39;00m\n\u001b[1;32m  16907\u001b[0m ) \u001b[38;5;241m-\u001b[39m\u001b[38;5;241m>\u001b[39m typing\u001b[38;5;241m.\u001b[39mOptional[\u001b[38;5;28mstr\u001b[39m]:\n\u001b[1;32m  16908\u001b[0m \u001b[38;5;250m    \u001b[39m\u001b[38;5;124;03m\"\"\"Locator.text_content\u001b[39;00m\n\u001b[1;32m  16909\u001b[0m \n\u001b[1;32m  16910\u001b[0m \u001b[38;5;124;03m    Returns the [`node.textContent`](https://developer.mozilla.org/en-US/docs/Web/API/Node/textContent).\u001b[39;00m\n\u001b[0;32m   (...)\u001b[0m\n\u001b[1;32m  16923\u001b[0m \u001b[38;5;124;03m    Union[str, None]\u001b[39;00m\n\u001b[1;32m  16924\u001b[0m \u001b[38;5;124;03m    \"\"\"\u001b[39;00m\n\u001b[1;32m  16926\u001b[0m     \u001b[38;5;28;01mreturn\u001b[39;00m mapping\u001b[38;5;241m.\u001b[39mfrom_maybe_impl(\n\u001b[0;32m> 16927\u001b[0m         \u001b[38;5;28;01mawait\u001b[39;00m \u001b[38;5;28mself\u001b[39m\u001b[38;5;241m.\u001b[39m_impl_obj\u001b[38;5;241m.\u001b[39mtext_content(timeout\u001b[38;5;241m=\u001b[39mtimeout)\n\u001b[1;32m  16928\u001b[0m     )\n",
      "File \u001b[0;32m~/miniconda3/lib/python3.11/site-packages/playwright/_impl/_locator.py:607\u001b[0m, in \u001b[0;36mLocator.text_content\u001b[0;34m(self, timeout)\u001b[0m\n\u001b[1;32m    605\u001b[0m \u001b[38;5;28;01masync\u001b[39;00m \u001b[38;5;28;01mdef\u001b[39;00m \u001b[38;5;21mtext_content\u001b[39m(\u001b[38;5;28mself\u001b[39m, timeout: \u001b[38;5;28mfloat\u001b[39m \u001b[38;5;241m=\u001b[39m \u001b[38;5;28;01mNone\u001b[39;00m) \u001b[38;5;241m-\u001b[39m\u001b[38;5;241m>\u001b[39m Optional[\u001b[38;5;28mstr\u001b[39m]:\n\u001b[1;32m    606\u001b[0m     params \u001b[38;5;241m=\u001b[39m locals_to_params(\u001b[38;5;28mlocals\u001b[39m())\n\u001b[0;32m--> 607\u001b[0m     \u001b[38;5;28;01mreturn\u001b[39;00m \u001b[38;5;28;01mawait\u001b[39;00m \u001b[38;5;28mself\u001b[39m\u001b[38;5;241m.\u001b[39m_frame\u001b[38;5;241m.\u001b[39mtext_content(\n\u001b[1;32m    608\u001b[0m         \u001b[38;5;28mself\u001b[39m\u001b[38;5;241m.\u001b[39m_selector,\n\u001b[1;32m    609\u001b[0m         strict\u001b[38;5;241m=\u001b[39m\u001b[38;5;28;01mTrue\u001b[39;00m,\n\u001b[1;32m    610\u001b[0m         \u001b[38;5;241m*\u001b[39m\u001b[38;5;241m*\u001b[39mparams,\n\u001b[1;32m    611\u001b[0m     )\n",
      "File \u001b[0;32m~/miniconda3/lib/python3.11/site-packages/playwright/_impl/_frame.py:613\u001b[0m, in \u001b[0;36mFrame.text_content\u001b[0;34m(self, selector, strict, timeout)\u001b[0m\n\u001b[1;32m    610\u001b[0m \u001b[38;5;28;01masync\u001b[39;00m \u001b[38;5;28;01mdef\u001b[39;00m \u001b[38;5;21mtext_content\u001b[39m(\n\u001b[1;32m    611\u001b[0m     \u001b[38;5;28mself\u001b[39m, selector: \u001b[38;5;28mstr\u001b[39m, strict: \u001b[38;5;28mbool\u001b[39m \u001b[38;5;241m=\u001b[39m \u001b[38;5;28;01mNone\u001b[39;00m, timeout: \u001b[38;5;28mfloat\u001b[39m \u001b[38;5;241m=\u001b[39m \u001b[38;5;28;01mNone\u001b[39;00m\n\u001b[1;32m    612\u001b[0m ) \u001b[38;5;241m-\u001b[39m\u001b[38;5;241m>\u001b[39m Optional[\u001b[38;5;28mstr\u001b[39m]:\n\u001b[0;32m--> 613\u001b[0m     \u001b[38;5;28;01mreturn\u001b[39;00m \u001b[38;5;28;01mawait\u001b[39;00m \u001b[38;5;28mself\u001b[39m\u001b[38;5;241m.\u001b[39m_channel\u001b[38;5;241m.\u001b[39msend(\u001b[38;5;124m\"\u001b[39m\u001b[38;5;124mtextContent\u001b[39m\u001b[38;5;124m\"\u001b[39m, locals_to_params(\u001b[38;5;28mlocals\u001b[39m()))\n",
      "File \u001b[0;32m~/miniconda3/lib/python3.11/site-packages/playwright/_impl/_connection.py:59\u001b[0m, in \u001b[0;36mChannel.send\u001b[0;34m(self, method, params)\u001b[0m\n\u001b[1;32m     58\u001b[0m \u001b[38;5;28;01masync\u001b[39;00m \u001b[38;5;28;01mdef\u001b[39;00m \u001b[38;5;21msend\u001b[39m(\u001b[38;5;28mself\u001b[39m, method: \u001b[38;5;28mstr\u001b[39m, params: Dict \u001b[38;5;241m=\u001b[39m \u001b[38;5;28;01mNone\u001b[39;00m) \u001b[38;5;241m-\u001b[39m\u001b[38;5;241m>\u001b[39m Any:\n\u001b[0;32m---> 59\u001b[0m     \u001b[38;5;28;01mreturn\u001b[39;00m \u001b[38;5;28;01mawait\u001b[39;00m \u001b[38;5;28mself\u001b[39m\u001b[38;5;241m.\u001b[39m_connection\u001b[38;5;241m.\u001b[39mwrap_api_call(\n\u001b[1;32m     60\u001b[0m         \u001b[38;5;28;01mlambda\u001b[39;00m: \u001b[38;5;28mself\u001b[39m\u001b[38;5;241m.\u001b[39minner_send(method, params, \u001b[38;5;28;01mFalse\u001b[39;00m)\n\u001b[1;32m     61\u001b[0m     )\n",
      "File \u001b[0;32m~/miniconda3/lib/python3.11/site-packages/playwright/_impl/_connection.py:514\u001b[0m, in \u001b[0;36mConnection.wrap_api_call\u001b[0;34m(self, cb, is_internal)\u001b[0m\n\u001b[1;32m    512\u001b[0m     \u001b[38;5;28;01mreturn\u001b[39;00m \u001b[38;5;28;01mawait\u001b[39;00m cb()\n\u001b[1;32m    513\u001b[0m \u001b[38;5;28;01mexcept\u001b[39;00m \u001b[38;5;167;01mException\u001b[39;00m \u001b[38;5;28;01mas\u001b[39;00m error:\n\u001b[0;32m--> 514\u001b[0m     \u001b[38;5;28;01mraise\u001b[39;00m rewrite_error(error, \u001b[38;5;124mf\u001b[39m\u001b[38;5;124m\"\u001b[39m\u001b[38;5;132;01m{\u001b[39;00mparsed_st[\u001b[38;5;124m'\u001b[39m\u001b[38;5;124mapiName\u001b[39m\u001b[38;5;124m'\u001b[39m]\u001b[38;5;132;01m}\u001b[39;00m\u001b[38;5;124m: \u001b[39m\u001b[38;5;132;01m{\u001b[39;00merror\u001b[38;5;132;01m}\u001b[39;00m\u001b[38;5;124m\"\u001b[39m) \u001b[38;5;28;01mfrom\u001b[39;00m \u001b[38;5;28;01mNone\u001b[39;00m\n\u001b[1;32m    515\u001b[0m \u001b[38;5;28;01mfinally\u001b[39;00m:\n\u001b[1;32m    516\u001b[0m     \u001b[38;5;28mself\u001b[39m\u001b[38;5;241m.\u001b[39m_api_zone\u001b[38;5;241m.\u001b[39mset(\u001b[38;5;28;01mNone\u001b[39;00m)\n",
      "\u001b[0;31mTimeoutError\u001b[0m: Locator.text_content: Timeout 30000ms exceeded.\nCall log:\nwaiting for locator(\"//div[@data-component-type=\\\"s-search-result\\\"]\").nth(36).locator(\"//span[@id=\\\"price-link\\\"]\")\n"
     ]
    }
   ],
   "source": [
    "# we'll populate this\n",
    "data = []\n",
    "\n",
    "xpath_brand = '//h2[@class=\"a-size-mini s-line-clamp-1\"]'\n",
    "xpath_price = '//span[@id=\"price-link\"]'\n",
    "\n",
    "for product in tqdm(product_tiles):\n",
    "    brand = await product.locator(xpath_brand).text_content()\n",
    "    price = await product.locator(xpath_price).text_content()\n",
    "    row = {\n",
    "        'brand' : brand,\n",
    "        'price': price    \n",
    "    }\n",
    "    data.append(row)"
   ]
  },
  {
   "cell_type": "code",
   "execution_count": 61,
   "id": "9fc2a061-4b19-46bc-bef5-1eaca0da6ad0",
   "metadata": {},
   "outputs": [
    {
     "data": {
      "text/plain": [
       "{'brand': 'Amazon Essentials', 'price': 'Price, product page'}"
      ]
     },
     "execution_count": 61,
     "metadata": {},
     "output_type": "execute_result"
    }
   ],
   "source": [
    "data[0]"
   ]
  },
  {
   "cell_type": "markdown",
   "id": "103eae3f",
   "metadata": {},
   "source": [
    "Although we did this all using Playwright, it's better to save the page source and then parse the saved results in BeautifulSoup, lxml, or whatever parsing software you prefer."
   ]
  },
  {
   "cell_type": "markdown",
   "id": "b34a404f",
   "metadata": {},
   "source": [
    "### Annotate the elements we find\n",
    "Let's find all the ads, and highlight them red on the page."
   ]
  },
  {
   "cell_type": "code",
   "execution_count": 62,
   "id": "3c003f5f",
   "metadata": {},
   "outputs": [],
   "source": [
    "# xpath_ads = '//div[@data-asin and .//a[@aria-label=\"View Sponsored information or leave ad feedback\"]]'\n",
    "xpath_ads = '//div[@data-asin and .//span[@aria-label=\"View Sponsored information or leave ad feedback\"]]'\n",
    "ads = await page.locator(xpath_ads).all()"
   ]
  },
  {
   "cell_type": "code",
   "execution_count": 63,
   "id": "e6b82ef0",
   "metadata": {
    "scrolled": true
   },
   "outputs": [
    {
     "data": {
      "text/plain": [
       "11"
      ]
     },
     "execution_count": 63,
     "metadata": {},
     "output_type": "execute_result"
    }
   ],
   "source": [
    "len(ads)"
   ]
  },
  {
   "cell_type": "markdown",
   "id": "426b86f1-be60-4804-85a2-bd1e3a5bf935",
   "metadata": {},
   "source": [
    "You can \"inject\" attributes into elements, including style attributes."
   ]
  },
  {
   "cell_type": "code",
   "execution_count": 64,
   "id": "dd657615-1abc-486f-96eb-78259e544611",
   "metadata": {},
   "outputs": [],
   "source": [
    "elem = ads[0]"
   ]
  },
  {
   "cell_type": "code",
   "execution_count": 65,
   "id": "65ae9f78-6e8d-4fa5-a7e2-9a055f2317c5",
   "metadata": {},
   "outputs": [],
   "source": [
    "style = f\"background-color: red !important; transition: all 0.5s linear;\""
   ]
  },
  {
   "cell_type": "code",
   "execution_count": 66,
   "id": "ee0ac832-d7f7-4bc9-9572-6dfb1784dac3",
   "metadata": {},
   "outputs": [],
   "source": [
    "await elem.evaluate(f\"el => el.setAttribute('style','{style}')\")"
   ]
  },
  {
   "cell_type": "code",
   "execution_count": 67,
   "id": "36b75c42",
   "metadata": {},
   "outputs": [],
   "source": [
    "async def stain(elem, color = 'red'):\n",
    "    \"\"\"\n",
    "    Injects a style attribute to stain `elem` the `color` red.\n",
    "    \"\"\"\n",
    "    style = f\"background-color: {color} !important; \"\\\n",
    "             \"transition: all 0.5s linear;\"\n",
    "    await elem.evaluate(f\"el => el.setAttribute('style','{style}')\")"
   ]
  },
  {
   "cell_type": "code",
   "execution_count": 68,
   "id": "8d9a1db6",
   "metadata": {},
   "outputs": [],
   "source": [
    "for elem in ads:\n",
    "    await stain(elem)"
   ]
  },
  {
   "cell_type": "markdown",
   "id": "de76b189",
   "metadata": {},
   "source": [
    "### Get height of document"
   ]
  },
  {
   "cell_type": "code",
   "execution_count": 69,
   "id": "72f173e6",
   "metadata": {},
   "outputs": [],
   "source": [
    "import pandas as pd"
   ]
  },
  {
   "cell_type": "code",
   "execution_count": 70,
   "id": "e4ace111",
   "metadata": {},
   "outputs": [],
   "source": [
    "height = await page.evaluate(\"document.body.scrollHeight\")"
   ]
  },
  {
   "cell_type": "code",
   "execution_count": 71,
   "id": "c65a7940",
   "metadata": {},
   "outputs": [
    {
     "data": {
      "text/plain": [
       "14497"
      ]
     },
     "execution_count": 71,
     "metadata": {},
     "output_type": "execute_result"
    }
   ],
   "source": [
    "height"
   ]
  },
  {
   "cell_type": "markdown",
   "id": "c41f9d67",
   "metadata": {},
   "source": [
    "Get the coorindates and size of each element using the `bounding_box` function."
   ]
  },
  {
   "cell_type": "code",
   "execution_count": 73,
   "id": "c6056962-e13a-470f-a251-3f8eabcce5d0",
   "metadata": {},
   "outputs": [
    {
     "data": {
      "text/plain": [
       "{'x': 516.8046875,\n",
       " 'y': 684.984375,\n",
       " 'width': 250.3984375,\n",
       " 'height': 663.4921875}"
      ]
     },
     "execution_count": 73,
     "metadata": {},
     "output_type": "execute_result"
    }
   ],
   "source": [
    "await elem.bounding_box()"
   ]
  },
  {
   "cell_type": "code",
   "execution_count": 74,
   "id": "31b2ead4",
   "metadata": {},
   "outputs": [],
   "source": [
    "ad_metadata = []\n",
    "for elem in ads:\n",
    "    if await elem.is_visible(): # use this function to only analyze visable elements\n",
    "        rect = await elem.bounding_box()\n",
    "        ad_metadata.append(rect)"
   ]
  },
  {
   "cell_type": "code",
   "execution_count": 75,
   "id": "5afcb8b0",
   "metadata": {},
   "outputs": [],
   "source": [
    "df = pd.DataFrame(ad_metadata)"
   ]
  },
  {
   "cell_type": "code",
   "execution_count": 76,
   "id": "75332861-1150-4fec-aa41-40db2383bed9",
   "metadata": {},
   "outputs": [
    {
     "data": {
      "text/plain": [
       "0    -3855.968750\n",
       "1    -3855.968750\n",
       "2    -3855.968750\n",
       "3    -1694.492188\n",
       "4    -1694.492188\n",
       "5    -1003.000000\n",
       "6    -1003.000000\n",
       "7       24.492188\n",
       "8       24.492188\n",
       "9      684.984375\n",
       "10     684.984375\n",
       "Name: y, dtype: float64"
      ]
     },
     "execution_count": 76,
     "metadata": {},
     "output_type": "execute_result"
    }
   ],
   "source": [
    "df['y']"
   ]
  },
  {
   "cell_type": "code",
   "execution_count": 77,
   "id": "668b8cce",
   "metadata": {},
   "outputs": [],
   "source": [
    "df['how_far_down'] = df['y'] / height"
   ]
  },
  {
   "cell_type": "code",
   "execution_count": 78,
   "id": "06056c2e",
   "metadata": {},
   "outputs": [
    {
     "data": {
      "text/plain": [
       "how_far_down\n",
       "-0.265984    3\n",
       "-0.116886    2\n",
       "-0.069187    2\n",
       " 0.001689    2\n",
       " 0.047250    2\n",
       "Name: count, dtype: int64"
      ]
     },
     "execution_count": 78,
     "metadata": {},
     "output_type": "execute_result"
    }
   ],
   "source": [
    "df.how_far_down.value_counts()"
   ]
  },
  {
   "cell_type": "markdown",
   "id": "5ca3128a",
   "metadata": {},
   "source": [
    "### Save receipts"
   ]
  },
  {
   "cell_type": "code",
   "execution_count": 79,
   "id": "80e0884f",
   "metadata": {},
   "outputs": [],
   "source": [
    "# how to save what the emulator sees\n",
    "source = await page.content()\n",
    "with open('data/amazon_playwright_test.html', 'w') as f:\n",
    "    f.write(source)"
   ]
  },
  {
   "cell_type": "code",
   "execution_count": 43,
   "id": "e33a076e",
   "metadata": {},
   "outputs": [],
   "source": [
    "# just what's visible\n",
    "screenshot = await page.screenshot(path='data/amazon_selenium_test.png')"
   ]
  },
  {
   "cell_type": "markdown",
   "id": "844168b6",
   "metadata": {},
   "source": [
    "### Parsing the results however you like\n",
    "For me it means using lxml, but you can do this same thing in BeautifulSoup, and I encourage you do so..."
   ]
  },
  {
   "cell_type": "code",
   "execution_count": 80,
   "id": "bd60df79",
   "metadata": {},
   "outputs": [],
   "source": [
    "from lxml import etree"
   ]
  },
  {
   "cell_type": "code",
   "execution_count": 81,
   "id": "1507e08c",
   "metadata": {},
   "outputs": [],
   "source": [
    "dom = etree.HTML(open('data/amazon_playwright_test.html').read())"
   ]
  },
  {
   "cell_type": "code",
   "execution_count": 82,
   "id": "00ae9ecc",
   "metadata": {},
   "outputs": [],
   "source": [
    "product_metadata = []\n",
    "for result in dom.xpath('.//div[contains(@cel_widget_id, \"MAIN-SEARCH_RESULTS\")]'):\n",
    "    # this is where you can parse as many fields as you like.\n",
    "    brand, product_name = result.xpath('.//h2//text()')[:2]\n",
    "    \n",
    "    # ToDO get other attibutes such as ratings, price, is an ad?\n",
    "    \n",
    "    product_metadata.append({\n",
    "        'brand': brand,\n",
    "        'product_name': product_name\n",
    "    })"
   ]
  },
  {
   "cell_type": "code",
   "execution_count": 83,
   "id": "3dab1008",
   "metadata": {
    "collapsed": true,
    "jupyter": {
     "outputs_hidden": true
    }
   },
   "outputs": [
    {
     "data": {
      "text/html": [
       "<div>\n",
       "<style scoped>\n",
       "    .dataframe tbody tr th:only-of-type {\n",
       "        vertical-align: middle;\n",
       "    }\n",
       "\n",
       "    .dataframe tbody tr th {\n",
       "        vertical-align: top;\n",
       "    }\n",
       "\n",
       "    .dataframe thead th {\n",
       "        text-align: right;\n",
       "    }\n",
       "</style>\n",
       "<table border=\"1\" class=\"dataframe\">\n",
       "  <thead>\n",
       "    <tr style=\"text-align: right;\">\n",
       "      <th></th>\n",
       "      <th>brand</th>\n",
       "      <th>product_name</th>\n",
       "    </tr>\n",
       "  </thead>\n",
       "  <tbody>\n",
       "    <tr>\n",
       "      <th>0</th>\n",
       "      <td>Amazon Essentials</td>\n",
       "      <td>Slim-Fit Long Sleeve Shirt for Men, Pocket and...</td>\n",
       "    </tr>\n",
       "    <tr>\n",
       "      <th>1</th>\n",
       "      <td>CURBODO</td>\n",
       "      <td>Linen Shirts for Men Casual Short Sleeve Butto...</td>\n",
       "    </tr>\n",
       "    <tr>\n",
       "      <th>2</th>\n",
       "      <td>GENERIC</td>\n",
       "      <td>Jesus is Cool Cross Subtle Christian Minimal R...</td>\n",
       "    </tr>\n",
       "    <tr>\n",
       "      <th>3</th>\n",
       "      <td>Clothe Co.</td>\n",
       "      <td>Men's Short Sleeve Button Down Shirt with Fron...</td>\n",
       "    </tr>\n",
       "    <tr>\n",
       "      <th>4</th>\n",
       "      <td>Arctic Cool</td>\n",
       "      <td>Men’s Crew Neck Instant Cooling Moisture Wicki...</td>\n",
       "    </tr>\n",
       "    <tr>\n",
       "      <th>5</th>\n",
       "      <td>32 Degrees</td>\n",
       "      <td>Mens 4 Pack Cool Crewneck T-Shirt | Anti-Odor ...</td>\n",
       "    </tr>\n",
       "    <tr>\n",
       "      <th>6</th>\n",
       "      <td>Cool Tees</td>\n",
       "      <td>Funny Cat Ramen Graphic Tee Japanese Kawaii An...</td>\n",
       "    </tr>\n",
       "    <tr>\n",
       "      <th>7</th>\n",
       "      <td>Hanes</td>\n",
       "      <td>Sport Men's Long-Sleeve T-Shirt Pack, Cool DRI...</td>\n",
       "    </tr>\n",
       "    <tr>\n",
       "      <th>8</th>\n",
       "      <td>In my defense I was left unsupervised Shirts</td>\n",
       "      <td>In my defense I was left unsupervised Cool Fun...</td>\n",
       "    </tr>\n",
       "    <tr>\n",
       "      <th>9</th>\n",
       "      <td>Cool Tees</td>\n",
       "      <td>Human By Chance Alpha By Choice Cool Funny Alp...</td>\n",
       "    </tr>\n",
       "    <tr>\n",
       "      <th>10</th>\n",
       "      <td>Aelfric Eden</td>\n",
       "      <td>Graphic Tees Y2k Women Oversized T Shirts Stri...</td>\n",
       "    </tr>\n",
       "    <tr>\n",
       "      <th>11</th>\n",
       "      <td>33,000ft</td>\n",
       "      <td>Men's Long Sleeve Sun Protection Shirt UPF 50+...</td>\n",
       "    </tr>\n",
       "    <tr>\n",
       "      <th>12</th>\n",
       "      <td>GURUNVANI</td>\n",
       "      <td>Men Vintage Crewneck T-Shirt Graphic Tees Hip ...</td>\n",
       "    </tr>\n",
       "    <tr>\n",
       "      <th>13</th>\n",
       "      <td>QOSOQ</td>\n",
       "      <td>Mens T-Shirts Short Sleeve Button Casual Styli...</td>\n",
       "    </tr>\n",
       "    <tr>\n",
       "      <th>14</th>\n",
       "      <td>SOLY HUX</td>\n",
       "      <td>Men's Graphic Print T-Shirt Vintage Drop Shoul...</td>\n",
       "    </tr>\n",
       "    <tr>\n",
       "      <th>15</th>\n",
       "      <td>COZYEASE</td>\n",
       "      <td>Men's Graphic Tees Letter Print Casual Short S...</td>\n",
       "    </tr>\n",
       "    <tr>\n",
       "      <th>16</th>\n",
       "      <td>Peanuts</td>\n",
       "      <td>Snoopy Joe Cool T-Shirt</td>\n",
       "    </tr>\n",
       "    <tr>\n",
       "      <th>17</th>\n",
       "      <td>Under Armour</td>\n",
       "      <td>Men's Tech 2.0 Short-Sleeve T-Shirt</td>\n",
       "    </tr>\n",
       "    <tr>\n",
       "      <th>18</th>\n",
       "      <td>33,000ft</td>\n",
       "      <td>Men's UPF 50+ UV Short Sleeve Hiking Fishing S...</td>\n",
       "    </tr>\n",
       "    <tr>\n",
       "      <th>19</th>\n",
       "      <td>VEIISAR</td>\n",
       "      <td>Men's Mini Waffle Knit Crew Neck T-Shirt - 190...</td>\n",
       "    </tr>\n",
       "    <tr>\n",
       "      <th>20</th>\n",
       "      <td>Pioneer Camp</td>\n",
       "      <td>Mens Bamboo Viscose T Shirt Ultra Soft Plain T...</td>\n",
       "    </tr>\n",
       "    <tr>\n",
       "      <th>21</th>\n",
       "      <td>Aelfric Eden</td>\n",
       "      <td>Womens Jersey Tshirts Letter Printed Tees V Ne...</td>\n",
       "    </tr>\n",
       "    <tr>\n",
       "      <th>22</th>\n",
       "      <td>HovSiyla</td>\n",
       "      <td>1/5 Pack Running Shirts Men Sport Tops Dry Fit...</td>\n",
       "    </tr>\n",
       "    <tr>\n",
       "      <th>23</th>\n",
       "      <td>Super Mario</td>\n",
       "      <td>Bullet Bill Distressed Kanji Logo T-Shirt</td>\n",
       "    </tr>\n",
       "    <tr>\n",
       "      <th>24</th>\n",
       "      <td>Keasmto</td>\n",
       "      <td>3D Print Cool T Shirts Graphic Design Casual S...</td>\n",
       "    </tr>\n",
       "    <tr>\n",
       "      <th>25</th>\n",
       "      <td>space jam</td>\n",
       "      <td>Tune Squad Vintage T-Shirt</td>\n",
       "    </tr>\n",
       "    <tr>\n",
       "      <th>26</th>\n",
       "      <td>INTO THE AM</td>\n",
       "      <td>Cool Graphic T-Shirts for Men S - 4XL Premium ...</td>\n",
       "    </tr>\n",
       "    <tr>\n",
       "      <th>27</th>\n",
       "      <td>COZYEASE</td>\n",
       "      <td>Men's Letter Graphic Tee Casual Short Sleeve R...</td>\n",
       "    </tr>\n",
       "    <tr>\n",
       "      <th>28</th>\n",
       "      <td>Gildan</td>\n",
       "      <td>Men's Crew T-Shirts, Multipack, Style G1100</td>\n",
       "    </tr>\n",
       "    <tr>\n",
       "      <th>29</th>\n",
       "      <td>ZITY</td>\n",
       "      <td>Mens Polo Shirt Short Sleeve Sports Tactical T...</td>\n",
       "    </tr>\n",
       "    <tr>\n",
       "      <th>30</th>\n",
       "      <td>Riot Society</td>\n",
       "      <td>Men's Short Sleeve Graphic and Embroidered Fas...</td>\n",
       "    </tr>\n",
       "    <tr>\n",
       "      <th>31</th>\n",
       "      <td>Cool Tees</td>\n",
       "      <td>Samurai Cat Graphic Tee Warrior Vintage Japane...</td>\n",
       "    </tr>\n",
       "    <tr>\n",
       "      <th>32</th>\n",
       "      <td>Champion</td>\n",
       "      <td>Men's T-shirt, Cotton Midweight Men's Crewneck...</td>\n",
       "    </tr>\n",
       "    <tr>\n",
       "      <th>33</th>\n",
       "      <td>32 Degrees</td>\n",
       "      <td>Mens 4 Pack Cool V-Neck T-Shirt | Anti-Odor | ...</td>\n",
       "    </tr>\n",
       "    <tr>\n",
       "      <th>34</th>\n",
       "      <td>Super Mario</td>\n",
       "      <td>Nintendo Super Mario Iconic Boo Portrait Graph...</td>\n",
       "    </tr>\n",
       "    <tr>\n",
       "      <th>35</th>\n",
       "      <td>I'm Not Old I'm Classic Funny Car Graphic Co.</td>\n",
       "      <td>I'm Not Old I'm Classic Funny Car Graphic - Me...</td>\n",
       "    </tr>\n",
       "    <tr>\n",
       "      <th>36</th>\n",
       "      <td>Verdusa</td>\n",
       "      <td>Men's Tie Dye Short Sleeve Round Neck Graphic ...</td>\n",
       "    </tr>\n",
       "    <tr>\n",
       "      <th>37</th>\n",
       "      <td>SOLY HUX</td>\n",
       "      <td>Boy's Graphic Tees Palm Tree Print Short Sleev...</td>\n",
       "    </tr>\n",
       "    <tr>\n",
       "      <th>38</th>\n",
       "      <td>32 Degrees</td>\n",
       "      <td>Men's Cool Classic Crew T-Shirt | Anti-Odor | ...</td>\n",
       "    </tr>\n",
       "    <tr>\n",
       "      <th>39</th>\n",
       "      <td>Wukreran</td>\n",
       "      <td>Vintage Shirts for Women Cute Graphic Tee Spri...</td>\n",
       "    </tr>\n",
       "    <tr>\n",
       "      <th>40</th>\n",
       "      <td>The Art of Print by MCMA - Digitally Enhanced Art</td>\n",
       "      <td>Grumpy Frog Japanese Art T-Shirt - Unisex Adul...</td>\n",
       "    </tr>\n",
       "    <tr>\n",
       "      <th>41</th>\n",
       "      <td>Hanes</td>\n",
       "      <td>Men's Essentials Short Sleeve Graphic Tee</td>\n",
       "    </tr>\n",
       "    <tr>\n",
       "      <th>42</th>\n",
       "      <td>Feelin Good Tees</td>\n",
       "      <td>Never Forget Mens Cassette Tape VHS Music Old ...</td>\n",
       "    </tr>\n",
       "    <tr>\n",
       "      <th>43</th>\n",
       "      <td>DUDHUH</td>\n",
       "      <td>Men’s T-Shirts Techwear Japanese Streetwear Hi...</td>\n",
       "    </tr>\n",
       "    <tr>\n",
       "      <th>44</th>\n",
       "      <td>Liberty Imports</td>\n",
       "      <td>5 Pack Men’s Active Quick Dry Crew Neck T Shir...</td>\n",
       "    </tr>\n",
       "    <tr>\n",
       "      <th>45</th>\n",
       "      <td>32 Degrees</td>\n",
       "      <td>32 DEGREEES Men's Cool Classic Relaxed Tank | ...</td>\n",
       "    </tr>\n",
       "    <tr>\n",
       "      <th>46</th>\n",
       "      <td>duwqcui</td>\n",
       "      <td>3 Pcs Men's Oversized Heavy Cotton Summer T-Sh...</td>\n",
       "    </tr>\n",
       "    <tr>\n",
       "      <th>47</th>\n",
       "      <td>GearGlacier</td>\n",
       "      <td>Instant Cooling Quick Dry Workout Shirt for Me...</td>\n",
       "    </tr>\n",
       "    <tr>\n",
       "      <th>48</th>\n",
       "      <td>Hanes</td>\n",
       "      <td>Men's Cotton, Moisture-Wicking Crew Tee Unders...</td>\n",
       "    </tr>\n",
       "    <tr>\n",
       "      <th>49</th>\n",
       "      <td>STAR WARS</td>\n",
       "      <td>Chewbacca Basketball Who Invited Him Disney+ T...</td>\n",
       "    </tr>\n",
       "    <tr>\n",
       "      <th>50</th>\n",
       "      <td>SOLY HUX</td>\n",
       "      <td>T Shirts for Men Baggy Streetwear Short Sleeve...</td>\n",
       "    </tr>\n",
       "    <tr>\n",
       "      <th>51</th>\n",
       "      <td>INTO THE AM</td>\n",
       "      <td>Graphic Tees for Men S - 4XL Premium Short Sle...</td>\n",
       "    </tr>\n",
       "    <tr>\n",
       "      <th>52</th>\n",
       "      <td>Hanes</td>\n",
       "      <td>Men’s X-Temp Short Sleeve Polo Shirt, Midweigh...</td>\n",
       "    </tr>\n",
       "    <tr>\n",
       "      <th>53</th>\n",
       "      <td>STAR WARS</td>\n",
       "      <td>Star Wars Men's Words of Wisdom T-Shirt</td>\n",
       "    </tr>\n",
       "    <tr>\n",
       "      <th>54</th>\n",
       "      <td>COOFANDY</td>\n",
       "      <td>Mens Dress Shirts Short Sleeve Lightweight Wri...</td>\n",
       "    </tr>\n",
       "    <tr>\n",
       "      <th>55</th>\n",
       "      <td>ZITY</td>\n",
       "      <td>Men's Golf Shirts Short Sleeve Moisture Wickin...</td>\n",
       "    </tr>\n",
       "    <tr>\n",
       "      <th>56</th>\n",
       "      <td>MCPORO</td>\n",
       "      <td>Workout Shirts for Men Short Sleeve Quick Dry ...</td>\n",
       "    </tr>\n",
       "    <tr>\n",
       "      <th>57</th>\n",
       "      <td>32 Degrees</td>\n",
       "      <td>Men's Cool Classic Vneck T-Shirt | Anti-Odor |...</td>\n",
       "    </tr>\n",
       "    <tr>\n",
       "      <th>58</th>\n",
       "      <td>Obla</td>\n",
       "      <td>Mens Golf Polo Shirts Short Sleeve Dry Fit Per...</td>\n",
       "    </tr>\n",
       "    <tr>\n",
       "      <th>59</th>\n",
       "      <td>Amazon Essentials</td>\n",
       "      <td>Slim-Fit Men's Short Sleeve Button Down Shirt</td>\n",
       "    </tr>\n",
       "  </tbody>\n",
       "</table>\n",
       "</div>"
      ],
      "text/plain": [
       "                                                brand  \\\n",
       "0                                   Amazon Essentials   \n",
       "1                                             CURBODO   \n",
       "2                                             GENERIC   \n",
       "3                                          Clothe Co.   \n",
       "4                                         Arctic Cool   \n",
       "5                                          32 Degrees   \n",
       "6                                           Cool Tees   \n",
       "7                                               Hanes   \n",
       "8        In my defense I was left unsupervised Shirts   \n",
       "9                                           Cool Tees   \n",
       "10                                       Aelfric Eden   \n",
       "11                                           33,000ft   \n",
       "12                                          GURUNVANI   \n",
       "13                                              QOSOQ   \n",
       "14                                           SOLY HUX   \n",
       "15                                           COZYEASE   \n",
       "16                                            Peanuts   \n",
       "17                                       Under Armour   \n",
       "18                                           33,000ft   \n",
       "19                                            VEIISAR   \n",
       "20                                       Pioneer Camp   \n",
       "21                                       Aelfric Eden   \n",
       "22                                           HovSiyla   \n",
       "23                                        Super Mario   \n",
       "24                                            Keasmto   \n",
       "25                                          space jam   \n",
       "26                                        INTO THE AM   \n",
       "27                                           COZYEASE   \n",
       "28                                             Gildan   \n",
       "29                                               ZITY   \n",
       "30                                       Riot Society   \n",
       "31                                          Cool Tees   \n",
       "32                                           Champion   \n",
       "33                                         32 Degrees   \n",
       "34                                        Super Mario   \n",
       "35      I'm Not Old I'm Classic Funny Car Graphic Co.   \n",
       "36                                            Verdusa   \n",
       "37                                           SOLY HUX   \n",
       "38                                         32 Degrees   \n",
       "39                                           Wukreran   \n",
       "40  The Art of Print by MCMA - Digitally Enhanced Art   \n",
       "41                                              Hanes   \n",
       "42                                   Feelin Good Tees   \n",
       "43                                             DUDHUH   \n",
       "44                                    Liberty Imports   \n",
       "45                                         32 Degrees   \n",
       "46                                            duwqcui   \n",
       "47                                        GearGlacier   \n",
       "48                                              Hanes   \n",
       "49                                          STAR WARS   \n",
       "50                                           SOLY HUX   \n",
       "51                                        INTO THE AM   \n",
       "52                                              Hanes   \n",
       "53                                          STAR WARS   \n",
       "54                                           COOFANDY   \n",
       "55                                               ZITY   \n",
       "56                                             MCPORO   \n",
       "57                                         32 Degrees   \n",
       "58                                               Obla   \n",
       "59                                  Amazon Essentials   \n",
       "\n",
       "                                         product_name  \n",
       "0   Slim-Fit Long Sleeve Shirt for Men, Pocket and...  \n",
       "1   Linen Shirts for Men Casual Short Sleeve Butto...  \n",
       "2   Jesus is Cool Cross Subtle Christian Minimal R...  \n",
       "3   Men's Short Sleeve Button Down Shirt with Fron...  \n",
       "4   Men’s Crew Neck Instant Cooling Moisture Wicki...  \n",
       "5   Mens 4 Pack Cool Crewneck T-Shirt | Anti-Odor ...  \n",
       "6   Funny Cat Ramen Graphic Tee Japanese Kawaii An...  \n",
       "7   Sport Men's Long-Sleeve T-Shirt Pack, Cool DRI...  \n",
       "8   In my defense I was left unsupervised Cool Fun...  \n",
       "9   Human By Chance Alpha By Choice Cool Funny Alp...  \n",
       "10  Graphic Tees Y2k Women Oversized T Shirts Stri...  \n",
       "11  Men's Long Sleeve Sun Protection Shirt UPF 50+...  \n",
       "12  Men Vintage Crewneck T-Shirt Graphic Tees Hip ...  \n",
       "13  Mens T-Shirts Short Sleeve Button Casual Styli...  \n",
       "14  Men's Graphic Print T-Shirt Vintage Drop Shoul...  \n",
       "15  Men's Graphic Tees Letter Print Casual Short S...  \n",
       "16                            Snoopy Joe Cool T-Shirt  \n",
       "17                Men's Tech 2.0 Short-Sleeve T-Shirt  \n",
       "18  Men's UPF 50+ UV Short Sleeve Hiking Fishing S...  \n",
       "19  Men's Mini Waffle Knit Crew Neck T-Shirt - 190...  \n",
       "20  Mens Bamboo Viscose T Shirt Ultra Soft Plain T...  \n",
       "21  Womens Jersey Tshirts Letter Printed Tees V Ne...  \n",
       "22  1/5 Pack Running Shirts Men Sport Tops Dry Fit...  \n",
       "23          Bullet Bill Distressed Kanji Logo T-Shirt  \n",
       "24  3D Print Cool T Shirts Graphic Design Casual S...  \n",
       "25                         Tune Squad Vintage T-Shirt  \n",
       "26  Cool Graphic T-Shirts for Men S - 4XL Premium ...  \n",
       "27  Men's Letter Graphic Tee Casual Short Sleeve R...  \n",
       "28        Men's Crew T-Shirts, Multipack, Style G1100  \n",
       "29  Mens Polo Shirt Short Sleeve Sports Tactical T...  \n",
       "30  Men's Short Sleeve Graphic and Embroidered Fas...  \n",
       "31  Samurai Cat Graphic Tee Warrior Vintage Japane...  \n",
       "32  Men's T-shirt, Cotton Midweight Men's Crewneck...  \n",
       "33  Mens 4 Pack Cool V-Neck T-Shirt | Anti-Odor | ...  \n",
       "34  Nintendo Super Mario Iconic Boo Portrait Graph...  \n",
       "35  I'm Not Old I'm Classic Funny Car Graphic - Me...  \n",
       "36  Men's Tie Dye Short Sleeve Round Neck Graphic ...  \n",
       "37  Boy's Graphic Tees Palm Tree Print Short Sleev...  \n",
       "38  Men's Cool Classic Crew T-Shirt | Anti-Odor | ...  \n",
       "39  Vintage Shirts for Women Cute Graphic Tee Spri...  \n",
       "40  Grumpy Frog Japanese Art T-Shirt - Unisex Adul...  \n",
       "41          Men's Essentials Short Sleeve Graphic Tee  \n",
       "42  Never Forget Mens Cassette Tape VHS Music Old ...  \n",
       "43  Men’s T-Shirts Techwear Japanese Streetwear Hi...  \n",
       "44  5 Pack Men’s Active Quick Dry Crew Neck T Shir...  \n",
       "45  32 DEGREEES Men's Cool Classic Relaxed Tank | ...  \n",
       "46  3 Pcs Men's Oversized Heavy Cotton Summer T-Sh...  \n",
       "47  Instant Cooling Quick Dry Workout Shirt for Me...  \n",
       "48  Men's Cotton, Moisture-Wicking Crew Tee Unders...  \n",
       "49  Chewbacca Basketball Who Invited Him Disney+ T...  \n",
       "50  T Shirts for Men Baggy Streetwear Short Sleeve...  \n",
       "51  Graphic Tees for Men S - 4XL Premium Short Sle...  \n",
       "52  Men’s X-Temp Short Sleeve Polo Shirt, Midweigh...  \n",
       "53            Star Wars Men's Words of Wisdom T-Shirt  \n",
       "54  Mens Dress Shirts Short Sleeve Lightweight Wri...  \n",
       "55  Men's Golf Shirts Short Sleeve Moisture Wickin...  \n",
       "56  Workout Shirts for Men Short Sleeve Quick Dry ...  \n",
       "57  Men's Cool Classic Vneck T-Shirt | Anti-Odor |...  \n",
       "58  Mens Golf Polo Shirts Short Sleeve Dry Fit Per...  \n",
       "59      Slim-Fit Men's Short Sleeve Button Down Shirt  "
      ]
     },
     "execution_count": 83,
     "metadata": {},
     "output_type": "execute_result"
    }
   ],
   "source": [
    "pd.DataFrame(product_metadata)"
   ]
  },
  {
   "cell_type": "markdown",
   "id": "f7f54716",
   "metadata": {},
   "source": [
    "### Automate rotating \"AUTOMET\"\n",
    "1. Find all products\n",
    "2. filter to those with brand == AUTOMET\n",
    "3. Find the image\n",
    "    - Inject Javascript to make it spin."
   ]
  },
  {
   "cell_type": "code",
   "execution_count": 84,
   "id": "b40ba5cd",
   "metadata": {},
   "outputs": [],
   "source": [
    "async def spin(elem):\n",
    "    \"\"\"\n",
    "    Injects a style attribute to rotate `elem` 180 degrees.\n",
    "    \"\"\"\n",
    "    style = f\"transform: rotate(180deg) !important; \"\n",
    "    await elem.evaluate(\n",
    "            f\"elm => elm.setAttribute('style','{style}')\"\n",
    "    )"
   ]
  },
  {
   "cell_type": "markdown",
   "id": "e4762659-ac43-44e5-b44c-8c2fd3a4a671",
   "metadata": {},
   "source": [
    "Here's how to do this for ads (which we found previously)"
   ]
  },
  {
   "cell_type": "code",
   "execution_count": 85,
   "id": "971e6756",
   "metadata": {},
   "outputs": [],
   "source": [
    "for elem in ads:\n",
    "    await spin(elem)"
   ]
  },
  {
   "cell_type": "markdown",
   "id": "2e82fadb",
   "metadata": {},
   "source": [
    "## Here's the bountry\n",
    "Ultimately, I want every product image from specific brands (of y0ur choosing) to rotate continuously.\n",
    "You need a full screenshot or a video is fine, too.\n",
    "\n",
    "Also, make sure to save the results before you parse them."
   ]
  },
  {
   "cell_type": "code",
   "execution_count": 50,
   "id": "bc728a7d",
   "metadata": {},
   "outputs": [
    {
     "ename": "NameError",
     "evalue": "name 'TK' is not defined",
     "output_type": "error",
     "traceback": [
      "\u001b[0;31m---------------------------------------------------------------------------\u001b[0m",
      "\u001b[0;31mNameError\u001b[0m                                 Traceback (most recent call last)",
      "Cell \u001b[0;32mIn[50], line 3\u001b[0m\n\u001b[1;32m      1\u001b[0m \u001b[38;5;28;01mfor\u001b[39;00m product \u001b[38;5;129;01min\u001b[39;00m product_tiles:\n\u001b[1;32m      2\u001b[0m     \u001b[38;5;66;03m# get the brand name...\u001b[39;00m\n\u001b[0;32m----> 3\u001b[0m     brand_name \u001b[38;5;241m=\u001b[39m \u001b[38;5;28;01mawait\u001b[39;00m product\u001b[38;5;241m.\u001b[39mlocator(\u001b[43mTK\u001b[49m)\n\u001b[1;32m      5\u001b[0m     \u001b[38;5;66;03m# check if brand is in list\u001b[39;00m\n\u001b[1;32m      6\u001b[0m     \u001b[38;5;28;01mif\u001b[39;00m brand_name \u001b[38;5;129;01min\u001b[39;00m brands_to_spin:\n",
      "\u001b[0;31mNameError\u001b[0m: name 'TK' is not defined"
     ]
    }
   ],
   "source": [
    "for product in product_tiles:\n",
    "    # get the brand name...\n",
    "    brand_name = await product.locator(TK)\n",
    "    \n",
    "    # check if brand is in list\n",
    "    if brand_name in brands_to_spin:\n",
    "        print(product.text_content())\n",
    "        # find the image TK\n",
    "        spin(product)"
   ]
  },
  {
   "cell_type": "code",
   "execution_count": null,
   "id": "5f463a9f",
   "metadata": {},
   "outputs": [],
   "source": [
    "await driver.close()"
   ]
  },
  {
   "cell_type": "code",
   "execution_count": null,
   "id": "97284f41-de9e-4341-9771-67e85e2f24be",
   "metadata": {},
   "outputs": [],
   "source": []
  }
 ],
 "metadata": {
  "kernelspec": {
   "display_name": "Python 3 (ipykernel)",
   "language": "python",
   "name": "python3"
  },
  "language_info": {
   "codemirror_mode": {
    "name": "ipython",
    "version": 3
   },
   "file_extension": ".py",
   "mimetype": "text/x-python",
   "name": "python",
   "nbconvert_exporter": "python",
   "pygments_lexer": "ipython3",
   "version": "3.11.4"
  }
 },
 "nbformat": 4,
 "nbformat_minor": 5
}
