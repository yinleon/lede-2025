{
 "cells": [
  {
   "cell_type": "markdown",
   "id": "86bda04e",
   "metadata": {},
   "source": [
    "# Browser Automation Lecture Notes\n",
    "Date: 2025-07-09\n",
    "\n",
    "We'll use this notebook to work through some examples and showcase some essential functions in Playwright."
   ]
  },
  {
   "cell_type": "code",
   "execution_count": 1,
   "id": "e3eacf1b-6b12-4870-85bd-95e9c2c302b8",
   "metadata": {
    "collapsed": true,
    "jupyter": {
     "outputs_hidden": true
    },
    "scrolled": true
   },
   "outputs": [
    {
     "name": "stdout",
     "output_type": "stream",
     "text": [
      "Requirement already satisfied: ipykernel==6.28.0 in /Users/lyin72/miniconda3/lib/python3.11/site-packages (6.28.0)\n",
      "Requirement already satisfied: appnope in /Users/lyin72/miniconda3/lib/python3.11/site-packages (from ipykernel==6.28.0) (0.1.3)\n",
      "Requirement already satisfied: comm>=0.1.1 in /Users/lyin72/miniconda3/lib/python3.11/site-packages (from ipykernel==6.28.0) (0.1.4)\n",
      "Requirement already satisfied: debugpy>=1.6.5 in /Users/lyin72/miniconda3/lib/python3.11/site-packages (from ipykernel==6.28.0) (1.6.7.post1)\n",
      "Requirement already satisfied: ipython>=7.23.1 in /Users/lyin72/miniconda3/lib/python3.11/site-packages (from ipykernel==6.28.0) (8.14.0)\n",
      "Requirement already satisfied: jupyter-client>=6.1.12 in /Users/lyin72/miniconda3/lib/python3.11/site-packages (from ipykernel==6.28.0) (8.3.0)\n",
      "Requirement already satisfied: jupyter-core!=5.0.*,>=4.12 in /Users/lyin72/miniconda3/lib/python3.11/site-packages (from ipykernel==6.28.0) (5.3.1)\n",
      "Requirement already satisfied: matplotlib-inline>=0.1 in /Users/lyin72/miniconda3/lib/python3.11/site-packages (from ipykernel==6.28.0) (0.1.6)\n",
      "Requirement already satisfied: nest-asyncio in /Users/lyin72/miniconda3/lib/python3.11/site-packages (from ipykernel==6.28.0) (1.5.7)\n",
      "Requirement already satisfied: packaging in /Users/lyin72/miniconda3/lib/python3.11/site-packages (from ipykernel==6.28.0) (23.0)\n",
      "Requirement already satisfied: psutil in /Users/lyin72/miniconda3/lib/python3.11/site-packages (from ipykernel==6.28.0) (5.9.5)\n",
      "Requirement already satisfied: pyzmq>=24 in /Users/lyin72/miniconda3/lib/python3.11/site-packages (from ipykernel==6.28.0) (25.1.1)\n",
      "Requirement already satisfied: tornado>=6.1 in /Users/lyin72/miniconda3/lib/python3.11/site-packages (from ipykernel==6.28.0) (6.3.3)\n",
      "Requirement already satisfied: traitlets>=5.4.0 in /Users/lyin72/miniconda3/lib/python3.11/site-packages (from ipykernel==6.28.0) (5.9.0)\n",
      "Requirement already satisfied: backcall in /Users/lyin72/miniconda3/lib/python3.11/site-packages (from ipython>=7.23.1->ipykernel==6.28.0) (0.2.0)\n",
      "Requirement already satisfied: decorator in /Users/lyin72/miniconda3/lib/python3.11/site-packages (from ipython>=7.23.1->ipykernel==6.28.0) (5.1.1)\n",
      "Requirement already satisfied: jedi>=0.16 in /Users/lyin72/miniconda3/lib/python3.11/site-packages (from ipython>=7.23.1->ipykernel==6.28.0) (0.19.0)\n",
      "Requirement already satisfied: pickleshare in /Users/lyin72/miniconda3/lib/python3.11/site-packages (from ipython>=7.23.1->ipykernel==6.28.0) (0.7.5)\n",
      "Requirement already satisfied: prompt-toolkit!=3.0.37,<3.1.0,>=3.0.30 in /Users/lyin72/miniconda3/lib/python3.11/site-packages (from ipython>=7.23.1->ipykernel==6.28.0) (3.0.39)\n",
      "Requirement already satisfied: pygments>=2.4.0 in /Users/lyin72/miniconda3/lib/python3.11/site-packages (from ipython>=7.23.1->ipykernel==6.28.0) (2.16.1)\n",
      "Requirement already satisfied: stack-data in /Users/lyin72/miniconda3/lib/python3.11/site-packages (from ipython>=7.23.1->ipykernel==6.28.0) (0.6.2)\n",
      "Requirement already satisfied: pexpect>4.3 in /Users/lyin72/miniconda3/lib/python3.11/site-packages (from ipython>=7.23.1->ipykernel==6.28.0) (4.8.0)\n",
      "Requirement already satisfied: python-dateutil>=2.8.2 in /Users/lyin72/miniconda3/lib/python3.11/site-packages (from jupyter-client>=6.1.12->ipykernel==6.28.0) (2.8.2)\n",
      "Requirement already satisfied: platformdirs>=2.5 in /Users/lyin72/miniconda3/lib/python3.11/site-packages (from jupyter-core!=5.0.*,>=4.12->ipykernel==6.28.0) (3.10.0)\n",
      "Requirement already satisfied: parso<0.9.0,>=0.8.3 in /Users/lyin72/miniconda3/lib/python3.11/site-packages (from jedi>=0.16->ipython>=7.23.1->ipykernel==6.28.0) (0.8.3)\n",
      "Requirement already satisfied: ptyprocess>=0.5 in /Users/lyin72/miniconda3/lib/python3.11/site-packages (from pexpect>4.3->ipython>=7.23.1->ipykernel==6.28.0) (0.7.0)\n",
      "Requirement already satisfied: wcwidth in /Users/lyin72/miniconda3/lib/python3.11/site-packages (from prompt-toolkit!=3.0.37,<3.1.0,>=3.0.30->ipython>=7.23.1->ipykernel==6.28.0) (0.2.6)\n",
      "Requirement already satisfied: six>=1.5 in /Users/lyin72/miniconda3/lib/python3.11/site-packages (from python-dateutil>=2.8.2->jupyter-client>=6.1.12->ipykernel==6.28.0) (1.16.0)\n",
      "Requirement already satisfied: executing>=1.2.0 in /Users/lyin72/miniconda3/lib/python3.11/site-packages (from stack-data->ipython>=7.23.1->ipykernel==6.28.0) (1.2.0)\n",
      "Requirement already satisfied: asttokens>=2.1.0 in /Users/lyin72/miniconda3/lib/python3.11/site-packages (from stack-data->ipython>=7.23.1->ipykernel==6.28.0) (2.2.1)\n",
      "Requirement already satisfied: pure-eval in /Users/lyin72/miniconda3/lib/python3.11/site-packages (from stack-data->ipython>=7.23.1->ipykernel==6.28.0) (0.2.2)\n"
     ]
    }
   ],
   "source": [
    "!pip install ipykernel==6.28.0"
   ]
  },
  {
   "cell_type": "code",
   "execution_count": 1,
   "id": "3c4fdd7b",
   "metadata": {},
   "outputs": [],
   "source": [
    "import os\n",
    "import random\n",
    "import time\n",
    "\n",
    "from playwright.async_api import async_playwright, expect"
   ]
  },
  {
   "cell_type": "code",
   "execution_count": 3,
   "id": "f9c719cc-1a3c-45e6-800b-3d01e6465d38",
   "metadata": {},
   "outputs": [
    {
     "name": "stdout",
     "output_type": "stream",
     "text": [
      "Requirement already satisfied: playwright in /Users/lyin72/miniconda3/lib/python3.11/site-packages (1.44.0)\n",
      "Requirement already satisfied: greenlet==3.0.3 in /Users/lyin72/miniconda3/lib/python3.11/site-packages (from playwright) (3.0.3)\n",
      "Requirement already satisfied: pyee==11.1.0 in /Users/lyin72/miniconda3/lib/python3.11/site-packages (from playwright) (11.1.0)\n",
      "Requirement already satisfied: typing-extensions in /Users/lyin72/miniconda3/lib/python3.11/site-packages (from pyee==11.1.0->playwright) (4.12.2)\n"
     ]
    }
   ],
   "source": [
    "!pip install playwright"
   ]
  },
  {
   "cell_type": "code",
   "execution_count": 4,
   "id": "4a3907ea-821a-45d7-b3b2-238648781522",
   "metadata": {},
   "outputs": [
    {
     "name": "stdout",
     "output_type": "stream",
     "text": [
      "/Users/lyin72/miniconda3/bin/playwright\n"
     ]
    }
   ],
   "source": [
    "!which playwright"
   ]
  },
  {
   "cell_type": "code",
   "execution_count": 5,
   "id": "5a925cd8-2db4-4f86-ae6b-2ccce0bc3dd6",
   "metadata": {},
   "outputs": [],
   "source": [
    "!playwright install"
   ]
  },
  {
   "cell_type": "code",
   "execution_count": 2,
   "id": "3eddd175",
   "metadata": {},
   "outputs": [],
   "source": [
    "os.makedirs('data/', exist_ok=True)"
   ]
  },
  {
   "cell_type": "code",
   "execution_count": 3,
   "id": "7e025cfe-598b-4884-9f02-71eb28c4255b",
   "metadata": {},
   "outputs": [],
   "source": [
    "# Start the browser\n",
    "playwright = await async_playwright().start()"
   ]
  },
  {
   "cell_type": "code",
   "execution_count": 4,
   "id": "a231db76-64b5-4185-bf1f-8032636ff799",
   "metadata": {},
   "outputs": [],
   "source": [
    "browser = await playwright.chromium.launch(headless=False)\n",
    "page = await browser.new_page()\n",
    "await browser.close()"
   ]
  },
  {
   "cell_type": "code",
   "execution_count": 7,
   "id": "2dddc486",
   "metadata": {},
   "outputs": [],
   "source": [
    "async def open_browser(headless=False):\n",
    "    \"\"\"\n",
    "    Starts the automated browser and opens a new window\n",
    "    \"\"\"\n",
    "    # Start playwright\n",
    "    playwright = await async_playwright().start()\n",
    "\n",
    "    # Open chromium (chrome) browser, can use firefox or others\n",
    "    browser = await playwright.chromium.launch(headless=headless)\n",
    "  \n",
    "    # Create a new browser window\n",
    "    page = await browser.new_page()\n",
    "\n",
    "    return browser, page"
   ]
  },
  {
   "cell_type": "code",
   "execution_count": 8,
   "id": "1a1b8eb3",
   "metadata": {},
   "outputs": [],
   "source": [
    "driver, page = await open_browser()"
   ]
  },
  {
   "cell_type": "code",
   "execution_count": 12,
   "id": "aba745a4",
   "metadata": {},
   "outputs": [
    {
     "data": {
      "text/plain": [
       "<Response url='https://www.amazon.com/' request=<Request url='https://www.amazon.com/' method='GET'>>"
      ]
     },
     "execution_count": 12,
     "metadata": {},
     "output_type": "execute_result"
    }
   ],
   "source": [
    "# visit a URL\n",
    "url = 'https://amazon.com'\n",
    "await page.goto(url)"
   ]
  },
  {
   "cell_type": "markdown",
   "id": "8232b625",
   "metadata": {},
   "source": [
    "## XPATH\n",
    "You learned about beautifulSoup to work with HTML...\n",
    "\n",
    "Xpath is another way to navigate hierarchical structures of HTML and SVG\n",
    "\n",
    "It's fast, versatile, and can be used in the developer console and in any computing language."
   ]
  },
  {
   "cell_type": "markdown",
   "id": "2cfe1a48",
   "metadata": {},
   "source": [
    "## Using XPATH\n",
    "You can test xpaths in the devloper tools under the `console` tab using the function `$x()`. Read about that function [here](https://developer.chrome.com/docs/devtools/console/utilities/#xpath-function).\n",
    "\n",
    "\n",
    "You can use Playwright's `locator` [function](https://playwright.dev/python/docs/locators#locate-by-css-or-xpath) to find the search box on Amazon site using an xpath or css selector. It'll return the first match unless you add `.all()` to the located elements.\n",
    "\n",
    "Playwright allows other [locators](https://playwright.dev/python/docs/locators#quick-guide), which the developers suggest (but I don't)."
   ]
  },
  {
   "cell_type": "markdown",
   "id": "a7de9e13",
   "metadata": {},
   "source": [
    "Example of an xpath!\n",
    "\n",
    "//input[@aria-label=\"Search Amazon\"]"
   ]
  },
  {
   "cell_type": "markdown",
   "id": "d6e5a854-0b8f-4b20-8728-721a8bb234cc",
   "metadata": {},
   "source": [
    "### Finding elements and performing actons\n",
    "Browser automation is largely about locating elements on the page, and interacting with them in some way.\n",
    "This can involve filling forms, mocking pressing buttons on a keyboard, clicking things."
   ]
  },
  {
   "cell_type": "code",
   "execution_count": 13,
   "id": "ad7ac28b-2a6e-45b3-aa9e-29f8dc175209",
   "metadata": {},
   "outputs": [],
   "source": [
    "# here's how you can do that with xpath\n",
    "search_bar = page.locator(\n",
    "    '//input[@aria-label=\"Search Amazon\"]'\n",
    ")"
   ]
  },
  {
   "cell_type": "markdown",
   "id": "ab787af0-e87f-47f6-a1f9-9007db1d5cfc",
   "metadata": {},
   "source": [
    "You can also use the built-in functionality by exploiting the placeholder text\n",
    "```\n",
    "page.get_by_placeholder(\"Search Amazon\")\n",
    "```"
   ]
  },
  {
   "cell_type": "code",
   "execution_count": 14,
   "id": "85bb5a08-0f8c-44d9-bbbc-3ea10a954b08",
   "metadata": {},
   "outputs": [
    {
     "data": {
      "text/plain": [
       "<Locator frame=<Frame name= url='https://www.amazon.com/'> selector='//input[@aria-label=\"Search Amazon\"]'>"
      ]
     },
     "execution_count": 14,
     "metadata": {},
     "output_type": "execute_result"
    }
   ],
   "source": [
    "search_bar"
   ]
  },
  {
   "cell_type": "markdown",
   "id": "68b55acb-d39c-430c-b18d-265275a8cd72",
   "metadata": {},
   "source": [
    "Let's fill in the search bar."
   ]
  },
  {
   "cell_type": "code",
   "execution_count": 15,
   "id": "cd278c67-d047-4308-b30b-1a8195bcddac",
   "metadata": {},
   "outputs": [],
   "source": [
    "await search_bar.fill('TEST')"
   ]
  },
  {
   "cell_type": "code",
   "execution_count": 16,
   "id": "2934f057",
   "metadata": {},
   "outputs": [],
   "source": [
    "search_term = 'womens shirt'\n",
    "await search_bar.fill(search_term)"
   ]
  },
  {
   "cell_type": "markdown",
   "id": "56658db4-b8a6-4f30-b15e-4d80a49b8809",
   "metadata": {},
   "source": [
    "You can make the search either by inputting the \"Enter\" button, or finding the search button and clicking it.\n",
    "\n",
    "Here's how you can press a [keyboard](https://playwright.dev/docs/api/class-keyboard) button."
   ]
  },
  {
   "cell_type": "code",
   "execution_count": 17,
   "id": "54469b13",
   "metadata": {},
   "outputs": [],
   "source": [
    "await page.keyboard.press(\"Enter\")"
   ]
  },
  {
   "cell_type": "markdown",
   "id": "1a1a5aaa-cb18-48ac-b24b-66ed18d3d94d",
   "metadata": {},
   "source": [
    "Alternatively, you can locate the button perform an [action](https://playwright.dev/python/docs/input#mouse-click) such as a mouse `click`."
   ]
  },
  {
   "cell_type": "code",
   "execution_count": 18,
   "id": "70236f78-d106-4627-ad66-58ca6086708d",
   "metadata": {},
   "outputs": [],
   "source": [
    "search_button = page.locator(\n",
    "    '//input[@id=\"nav-search-submit-button\"]'\n",
    ")\n",
    "await search_button.click()"
   ]
  },
  {
   "cell_type": "code",
   "execution_count": null,
   "id": "0a78636d-a6ae-4a9b-b909-3347a1ebf228",
   "metadata": {},
   "outputs": [],
   "source": []
  },
  {
   "cell_type": "markdown",
   "id": "5faa8a52",
   "metadata": {},
   "source": [
    "### Parse the products\n",
    "\n",
    "For each product, let's print the brand name:"
   ]
  },
  {
   "cell_type": "code",
   "execution_count": 19,
   "id": "d2f74326-4ac2-4362-8751-c304f0197e05",
   "metadata": {},
   "outputs": [
    {
     "data": {
      "text/plain": [
       "0"
      ]
     },
     "execution_count": 19,
     "metadata": {},
     "output_type": "execute_result"
    }
   ],
   "source": [
    "# contains supports substring matches\n",
    "xpath_product = '//div[contains(@cel_widget_id, \"MAIN-SEARCH_RESULTS-\")]'\n",
    "product_tiles = await page.locator(xpath_product).all()\n",
    "len(product_tiles)"
   ]
  },
  {
   "cell_type": "markdown",
   "id": "d21718da-4382-4b6d-a21e-33d49bca49d1",
   "metadata": {},
   "source": [
    "Notice we're adding `.all()` to the command, this will return a list, rather than the first element.\n",
    "\n",
    "If you run all the cells at once, the above will return zero results. This is because the browser needs to await for the element to be visible.\n",
    "\n",
    "You can force the browser to sleep or check the element is visible using the `expect` [function](https://playwright.dev/python/docs/test-assertions)."
   ]
  },
  {
   "cell_type": "code",
   "execution_count": 20,
   "id": "7722715b-5fa8-4471-9120-60fa5a3b6b35",
   "metadata": {},
   "outputs": [],
   "source": [
    "# Let's wait for the first product to load\n",
    "await expect(page.locator(xpath_product).first).to_be_visible()"
   ]
  },
  {
   "cell_type": "code",
   "execution_count": 21,
   "id": "064dbf4a-a27c-4c88-9eef-2b130813c73f",
   "metadata": {},
   "outputs": [
    {
     "data": {
      "text/plain": [
       "33"
      ]
     },
     "execution_count": 21,
     "metadata": {},
     "output_type": "execute_result"
    }
   ],
   "source": [
    "# run it again, after waiting for the elements to be rendered\n",
    "product_tiles = await page.locator(xpath_product).all()\n",
    "len(product_tiles)"
   ]
  },
  {
   "cell_type": "markdown",
   "id": "ddf255ec-2208-4b16-b041-d65114fa307a",
   "metadata": {},
   "source": [
    "This is the sleeping method"
   ]
  },
  {
   "cell_type": "code",
   "execution_count": 22,
   "id": "405386af-41b1-4bdb-9a44-955c5dd2f192",
   "metadata": {},
   "outputs": [],
   "source": [
    "# import asyncio\n",
    "\n",
    "# await asyncio.sleep(2)\n",
    "# product_tiles = await page.locator(xpath_product).all()"
   ]
  },
  {
   "cell_type": "markdown",
   "id": "31e0b1be-c168-4062-9338-eff4bba3cc50",
   "metadata": {},
   "source": [
    "Let's parse one product"
   ]
  },
  {
   "cell_type": "code",
   "execution_count": 23,
   "id": "7c4a09f6",
   "metadata": {},
   "outputs": [],
   "source": [
    "prod = product_tiles[0]"
   ]
  },
  {
   "cell_type": "code",
   "execution_count": 24,
   "id": "0bb1ca3b-7f09-4264-8bde-95a1a1607070",
   "metadata": {},
   "outputs": [
    {
     "data": {
      "text/plain": [
       "'\\n\\n\\n\\n    \\n\\n\\n\\n    +12 other colors/patternsFeatured from Amazon brandsFeatured from Amazon brands Amazon EssentialsWomen\\'s Regular-Fit 3/4 Sleeve V-Neck T-Shirt (Available in Plus Size), Multipacks 4.2 out of 5 stars 10,509  100+ bought in past monthPrice, product page$8.90$8.90 Typical: $13.30Typical: $13.30$13.30FREE delivery Fri, Jul 11 on $35 of items shipped by AmazonOr fastest delivery Tue, Jul 8  1 sustainability feature<img alt=\"\" src=\"https://m.media-amazon.com/images/I/11++B3A2NEL.png\" height=\"24px\" width=\"24px\"/>  Sustainability featuresThis product has sustainability features recognized by trusted certifications. Safer chemicalsMade with chemicals safer for human health and the environment.As certified by<img alt=\"\" src=\"https://m.media-amazon.com/images/I/51YvKwF01yL._SS200_.jpg\" height=\"24px\" width=\"24px\"/>  OEKO-TEX STANDARD 100Learn more about OEKO-TEX STANDARD 100<img alt=\"\" src=\"https://m.media-amazon.com/images/I/51YvKwF01yL._SS200_.jpg\" height=\"36px\" width=\"36px\"/> OEKO-TEX STANDARD 100OEKO-TEX® STANDARD 100 certified products require every component of a textiles production including all thread, buttons, and trims to be tested against a list of more than 1,000 regulated and unregulated chemicals which may be harmful to human health and the enviornment. The assessment process is globally standardized,  independently conducted, and updated at least once per year based on new scientific information or regulatory requirements.Certification Number23.HTW.30561<img alt=\"Climate Pledge Friendly\" src=\"https://m.media-amazon.com/images/I/21AGu0JFvKL.svg\" height=\"24px\" width=\"186px\"/> Discover more products with sustainability features. Learn more See options\\n\\n\\n\\n'"
      ]
     },
     "execution_count": 24,
     "metadata": {},
     "output_type": "execute_result"
    }
   ],
   "source": [
    "# see the text of the element\n",
    "await prod.text_content()"
   ]
  },
  {
   "cell_type": "markdown",
   "id": "21df89ce",
   "metadata": {},
   "source": [
    "Let's iterate through each product and print the brand name, which is saved as a header (h2) with a unique class in the element:"
   ]
  },
  {
   "cell_type": "code",
   "execution_count": 25,
   "id": "57a24ac6",
   "metadata": {},
   "outputs": [
    {
     "name": "stdout",
     "output_type": "stream",
     "text": [
      "Amazon Essentials\n",
      "AUTOMET\n",
      "ANRABESS\n",
      "Trendy Queen\n",
      "AUTOMET\n",
      "Amazon Essentials\n",
      "AUTOMET\n",
      "WIHOLL\n",
      "OFEEFAN\n",
      "AUTOMET\n",
      "Zeagoo\n",
      "AUTOMET\n",
      "Real Essentials\n",
      "EyMuse\n",
      "ANRABESS\n",
      "Oriental Pearl\n",
      "Amazon Essentials\n",
      "BAOKUAN\n",
      "Huukeay\n",
      "JomeDesign\n",
      "Memorose\n",
      "Trendy Queen\n",
      "CE' CERDR\n",
      "Astylish\n",
      "Falechay\n",
      "G Gradual\n",
      "MaQiYa\n",
      "YOGINGO\n",
      "AUTOMET\n",
      "Blooming Jelly\n",
      "ANRABESS\n",
      "AUTOMET\n",
      "EVALESS\n"
     ]
    }
   ],
   "source": [
    "xpath_brand = '//h2[@class=\"a-size-mini s-line-clamp-1\"]'\n",
    "for product in product_tiles:\n",
    "    brand = await product.locator(xpath_brand).text_content()\n",
    "    print(brand)"
   ]
  },
  {
   "cell_type": "markdown",
   "id": "103eae3f",
   "metadata": {},
   "source": [
    "Although we did this all using Playwright, it's better to save the page source and then parse the saved results in BeautifulSoup, lxml, or whatever parsing software you prefer."
   ]
  },
  {
   "cell_type": "markdown",
   "id": "b34a404f",
   "metadata": {},
   "source": [
    "### Annotate the elements we find\n",
    "Let's find all the ads, and highlight them red on the page."
   ]
  },
  {
   "cell_type": "code",
   "execution_count": 26,
   "id": "3c003f5f",
   "metadata": {},
   "outputs": [],
   "source": [
    "# xpath_ads = '//div[@data-asin and .//a[@aria-label=\"View Sponsored information or leave ad feedback\"]]'\n",
    "xpath_ads = '//div[@data-asin and .//span[@aria-label=\"View Sponsored information or leave ad feedback\"]]'\n",
    "ads = await page.locator(xpath_ads).all()"
   ]
  },
  {
   "cell_type": "code",
   "execution_count": 27,
   "id": "e6b82ef0",
   "metadata": {
    "scrolled": true
   },
   "outputs": [
    {
     "data": {
      "text/plain": [
       "10"
      ]
     },
     "execution_count": 27,
     "metadata": {},
     "output_type": "execute_result"
    }
   ],
   "source": [
    "len(ads)"
   ]
  },
  {
   "cell_type": "markdown",
   "id": "426b86f1-be60-4804-85a2-bd1e3a5bf935",
   "metadata": {},
   "source": [
    "You can \"inject\" attributes into elements, including style attributes."
   ]
  },
  {
   "cell_type": "code",
   "execution_count": 28,
   "id": "dd657615-1abc-486f-96eb-78259e544611",
   "metadata": {},
   "outputs": [],
   "source": [
    "elem = ads[0]"
   ]
  },
  {
   "cell_type": "code",
   "execution_count": 29,
   "id": "65ae9f78-6e8d-4fa5-a7e2-9a055f2317c5",
   "metadata": {},
   "outputs": [],
   "source": [
    "style = f\"background-color: red !important; transition: all 0.5s linear;\""
   ]
  },
  {
   "cell_type": "code",
   "execution_count": 30,
   "id": "ee0ac832-d7f7-4bc9-9572-6dfb1784dac3",
   "metadata": {},
   "outputs": [],
   "source": [
    "await elem.evaluate(f\"el => el.setAttribute('style','{style}')\")"
   ]
  },
  {
   "cell_type": "code",
   "execution_count": 31,
   "id": "36b75c42",
   "metadata": {},
   "outputs": [],
   "source": [
    "async def stain(elem, color = 'red'):\n",
    "    \"\"\"\n",
    "    Injects a style attribute to stain `elem` the `color` red.\n",
    "    \"\"\"\n",
    "    style = f\"background-color: {color} !important; \"\\\n",
    "             \"transition: all 0.5s linear;\"\n",
    "    await elem.evaluate(f\"el => el.setAttribute('style','{style}')\")"
   ]
  },
  {
   "cell_type": "code",
   "execution_count": 32,
   "id": "8d9a1db6",
   "metadata": {},
   "outputs": [],
   "source": [
    "for elem in ads:\n",
    "    await stain(elem)"
   ]
  },
  {
   "cell_type": "markdown",
   "id": "de76b189",
   "metadata": {},
   "source": [
    "### Get height of document"
   ]
  },
  {
   "cell_type": "code",
   "execution_count": 33,
   "id": "72f173e6",
   "metadata": {},
   "outputs": [],
   "source": [
    "import pandas as pd"
   ]
  },
  {
   "cell_type": "code",
   "execution_count": 34,
   "id": "e4ace111",
   "metadata": {},
   "outputs": [],
   "source": [
    "height = await page.evaluate(\"document.body.scrollHeight\")"
   ]
  },
  {
   "cell_type": "code",
   "execution_count": 35,
   "id": "c65a7940",
   "metadata": {},
   "outputs": [
    {
     "data": {
      "text/plain": [
       "13625"
      ]
     },
     "execution_count": 35,
     "metadata": {},
     "output_type": "execute_result"
    }
   ],
   "source": [
    "height"
   ]
  },
  {
   "cell_type": "markdown",
   "id": "c41f9d67",
   "metadata": {},
   "source": [
    "Get the coorindates and size of each element using the `bounding_box` function."
   ]
  },
  {
   "cell_type": "code",
   "execution_count": 36,
   "id": "c6056962-e13a-470f-a251-3f8eabcce5d0",
   "metadata": {},
   "outputs": [
    {
     "data": {
      "text/plain": [
       "{'x': 767.203125,\n",
       " 'y': 6555.4296875,\n",
       " 'width': 250.3984375,\n",
       " 'height': 660.4921875}"
      ]
     },
     "execution_count": 36,
     "metadata": {},
     "output_type": "execute_result"
    }
   ],
   "source": [
    "await elem.bounding_box()"
   ]
  },
  {
   "cell_type": "code",
   "execution_count": 37,
   "id": "31b2ead4",
   "metadata": {},
   "outputs": [],
   "source": [
    "ad_metadata = []\n",
    "for elem in ads:\n",
    "    if await elem.is_visible(): # use this function to only analyze visable elements\n",
    "        rect = await elem.bounding_box()\n",
    "        ad_metadata.append(rect)"
   ]
  },
  {
   "cell_type": "code",
   "execution_count": 38,
   "id": "5afcb8b0",
   "metadata": {},
   "outputs": [],
   "source": [
    "df = pd.DataFrame(ad_metadata)"
   ]
  },
  {
   "cell_type": "code",
   "execution_count": 39,
   "id": "75332861-1150-4fec-aa41-40db2383bed9",
   "metadata": {},
   "outputs": [
    {
     "data": {
      "text/plain": [
       "0    3965.460938\n",
       "1    3965.460938\n",
       "2    3965.460938\n",
       "3    5254.445312\n",
       "4    5254.445312\n",
       "5    5254.445312\n",
       "6    5254.445312\n",
       "7    6555.429688\n",
       "8    6555.429688\n",
       "9    6555.429688\n",
       "Name: y, dtype: float64"
      ]
     },
     "execution_count": 39,
     "metadata": {},
     "output_type": "execute_result"
    }
   ],
   "source": [
    "df['y']"
   ]
  },
  {
   "cell_type": "code",
   "execution_count": 40,
   "id": "668b8cce",
   "metadata": {},
   "outputs": [],
   "source": [
    "df['how_far_down'] = df['y'] / height"
   ]
  },
  {
   "cell_type": "code",
   "execution_count": 41,
   "id": "06056c2e",
   "metadata": {},
   "outputs": [
    {
     "data": {
      "text/plain": [
       "how_far_down\n",
       "0.385647    4\n",
       "0.291043    3\n",
       "0.481132    3\n",
       "Name: count, dtype: int64"
      ]
     },
     "execution_count": 41,
     "metadata": {},
     "output_type": "execute_result"
    }
   ],
   "source": [
    "df.how_far_down.value_counts()"
   ]
  },
  {
   "cell_type": "markdown",
   "id": "5ca3128a",
   "metadata": {},
   "source": [
    "### Save receipts"
   ]
  },
  {
   "cell_type": "code",
   "execution_count": 42,
   "id": "80e0884f",
   "metadata": {},
   "outputs": [],
   "source": [
    "# how to save what the emulator sees\n",
    "source = await page.content()\n",
    "with open('data/amazon_selenium_test.html', 'w') as f:\n",
    "    f.write(source)"
   ]
  },
  {
   "cell_type": "code",
   "execution_count": 43,
   "id": "e33a076e",
   "metadata": {},
   "outputs": [],
   "source": [
    "# just what's visible\n",
    "screenshot = await page.screenshot(path='data/amazon_selenium_test.png')"
   ]
  },
  {
   "cell_type": "markdown",
   "id": "844168b6",
   "metadata": {},
   "source": [
    "### Parsing the results however you like\n",
    "For me it means using lxml, but you can do this same thing in BeautifulSoup, and I encourage you do so..."
   ]
  },
  {
   "cell_type": "code",
   "execution_count": 44,
   "id": "bd60df79",
   "metadata": {},
   "outputs": [],
   "source": [
    "from lxml import etree"
   ]
  },
  {
   "cell_type": "code",
   "execution_count": 45,
   "id": "1507e08c",
   "metadata": {},
   "outputs": [],
   "source": [
    "dom = etree.HTML(open('data/amazon_selenium_test.html').read())"
   ]
  },
  {
   "cell_type": "code",
   "execution_count": 46,
   "id": "00ae9ecc",
   "metadata": {},
   "outputs": [],
   "source": [
    "product_metadata = []\n",
    "for result in dom.xpath('.//div[contains(@cel_widget_id, \"MAIN-SEARCH_RESULTS\")]'):\n",
    "    # this is where you can parse as many fields as you like.\n",
    "    brand, product_name = result.xpath('.//h2//text()')[:2]\n",
    "    product_metadata.append({\n",
    "        'brand': brand,\n",
    "        'product_name': product_name\n",
    "    })"
   ]
  },
  {
   "cell_type": "code",
   "execution_count": 47,
   "id": "3dab1008",
   "metadata": {},
   "outputs": [
    {
     "data": {
      "text/html": [
       "<div>\n",
       "<style scoped>\n",
       "    .dataframe tbody tr th:only-of-type {\n",
       "        vertical-align: middle;\n",
       "    }\n",
       "\n",
       "    .dataframe tbody tr th {\n",
       "        vertical-align: top;\n",
       "    }\n",
       "\n",
       "    .dataframe thead th {\n",
       "        text-align: right;\n",
       "    }\n",
       "</style>\n",
       "<table border=\"1\" class=\"dataframe\">\n",
       "  <thead>\n",
       "    <tr style=\"text-align: right;\">\n",
       "      <th></th>\n",
       "      <th>brand</th>\n",
       "      <th>product_name</th>\n",
       "    </tr>\n",
       "  </thead>\n",
       "  <tbody>\n",
       "    <tr>\n",
       "      <th>0</th>\n",
       "      <td>Amazon Essentials</td>\n",
       "      <td>Women's Regular-Fit 3/4 Sleeve V-Neck T-Shirt ...</td>\n",
       "    </tr>\n",
       "    <tr>\n",
       "      <th>1</th>\n",
       "      <td>AUTOMET</td>\n",
       "      <td>Women Shirts Summer Sweaters Regular Fit Short...</td>\n",
       "    </tr>\n",
       "    <tr>\n",
       "      <th>2</th>\n",
       "      <td>ANRABESS</td>\n",
       "      <td>Womens Short Sleeve Henley Tops V Neck Dressy ...</td>\n",
       "    </tr>\n",
       "    <tr>\n",
       "      <th>3</th>\n",
       "      <td>Trendy Queen</td>\n",
       "      <td>Womens Basic T Shirts Summer Tops 2025 Crop Sh...</td>\n",
       "    </tr>\n",
       "    <tr>\n",
       "      <th>4</th>\n",
       "      <td>AUTOMET</td>\n",
       "      <td>Summer Tops Womens Spring Short Sleeve Shirts ...</td>\n",
       "    </tr>\n",
       "    <tr>\n",
       "      <th>5</th>\n",
       "      <td>Amazon Essentials</td>\n",
       "      <td>Women's Regular-Fit Short-Sleeve V-Neck T-Shir...</td>\n",
       "    </tr>\n",
       "    <tr>\n",
       "      <th>6</th>\n",
       "      <td>AUTOMET</td>\n",
       "      <td>Women's Short Sleeve Shirts Dressy Lace Summer...</td>\n",
       "    </tr>\n",
       "    <tr>\n",
       "      <th>7</th>\n",
       "      <td>WIHOLL</td>\n",
       "      <td>Tops for Women Summer Casual Ruffle Trim Sleev...</td>\n",
       "    </tr>\n",
       "    <tr>\n",
       "      <th>8</th>\n",
       "      <td>OFEEFAN</td>\n",
       "      <td>Womens T Shirts Short Sleeve Pleated Dressy Ca...</td>\n",
       "    </tr>\n",
       "    <tr>\n",
       "      <th>9</th>\n",
       "      <td>AUTOMET</td>\n",
       "      <td>Women's Summer Short Sleeve Shirts Trendy T-Sh...</td>\n",
       "    </tr>\n",
       "    <tr>\n",
       "      <th>10</th>\n",
       "      <td>Zeagoo</td>\n",
       "      <td>Womens Summer Tops Casual Short Sleeve V Neck ...</td>\n",
       "    </tr>\n",
       "    <tr>\n",
       "      <th>11</th>\n",
       "      <td>AUTOMET</td>\n",
       "      <td>Womens Summer Tops Dressy Casual Blouses Busin...</td>\n",
       "    </tr>\n",
       "    <tr>\n",
       "      <th>12</th>\n",
       "      <td>Real Essentials</td>\n",
       "      <td>5 Pack: Women's Short Sleeve V-Neck Activewear...</td>\n",
       "    </tr>\n",
       "    <tr>\n",
       "      <th>13</th>\n",
       "      <td>EyMuse</td>\n",
       "      <td>T Shirts Short Sleeve V Neck Tees Womens Tops ...</td>\n",
       "    </tr>\n",
       "    <tr>\n",
       "      <th>14</th>\n",
       "      <td>ANRABESS</td>\n",
       "      <td>Oversized Tshirts for Women Summer Tops Short ...</td>\n",
       "    </tr>\n",
       "    <tr>\n",
       "      <th>15</th>\n",
       "      <td>Oriental Pearl</td>\n",
       "      <td>Women's Vintage Floral T Shirt Boho Wildflower...</td>\n",
       "    </tr>\n",
       "    <tr>\n",
       "      <th>16</th>\n",
       "      <td>Amazon Essentials</td>\n",
       "      <td>Women's Slim-Fit Short-Sleeve Crewneck T-Shirt...</td>\n",
       "    </tr>\n",
       "    <tr>\n",
       "      <th>17</th>\n",
       "      <td>BAOKUAN</td>\n",
       "      <td>Women Trendy Tops Sunflower Graphic Loose Summ...</td>\n",
       "    </tr>\n",
       "    <tr>\n",
       "      <th>18</th>\n",
       "      <td>Huukeay</td>\n",
       "      <td>3 Pack Women's Cap Sleeve Tops Basic Cotton Te...</td>\n",
       "    </tr>\n",
       "    <tr>\n",
       "      <th>19</th>\n",
       "      <td>JomeDesign</td>\n",
       "      <td>Womens Tops 3/4 Sleeve Shirts Round Neck Loose...</td>\n",
       "    </tr>\n",
       "    <tr>\n",
       "      <th>20</th>\n",
       "      <td>Memorose</td>\n",
       "      <td>Womens Short Sleeve Tops Summer T Shirts Round...</td>\n",
       "    </tr>\n",
       "    <tr>\n",
       "      <th>21</th>\n",
       "      <td>Trendy Queen</td>\n",
       "      <td>Womens Basic T Shirts Summer Tops 2025 Short S...</td>\n",
       "    </tr>\n",
       "    <tr>\n",
       "      <th>22</th>\n",
       "      <td>CE' CERDR</td>\n",
       "      <td>3/5 Pack Womens T Shirts Crew Neck Short Sleev...</td>\n",
       "    </tr>\n",
       "    <tr>\n",
       "      <th>23</th>\n",
       "      <td>Astylish</td>\n",
       "      <td>Womens V Neck Roll up Sleeve Button Down Blous...</td>\n",
       "    </tr>\n",
       "    <tr>\n",
       "      <th>24</th>\n",
       "      <td>Falechay</td>\n",
       "      <td>Womens Summer Tops Crewneck Short Sleeve Shirt...</td>\n",
       "    </tr>\n",
       "    <tr>\n",
       "      <th>25</th>\n",
       "      <td>G Gradual</td>\n",
       "      <td>Women's Sun Shirts UPF 50+ Long Sleeve UV Prot...</td>\n",
       "    </tr>\n",
       "    <tr>\n",
       "      <th>26</th>\n",
       "      <td>MaQiYa</td>\n",
       "      <td>Womens V Neck Basic Tops Color Block Tunic T S...</td>\n",
       "    </tr>\n",
       "    <tr>\n",
       "      <th>27</th>\n",
       "      <td>YOGINGO</td>\n",
       "      <td>Womens Basic Short Sleeve Crew Neck T Shirt Sl...</td>\n",
       "    </tr>\n",
       "    <tr>\n",
       "      <th>28</th>\n",
       "      <td>AUTOMET</td>\n",
       "      <td>Short Sleeve V Neck T Shirts Womens Cap Sleeve...</td>\n",
       "    </tr>\n",
       "    <tr>\n",
       "      <th>29</th>\n",
       "      <td>Blooming Jelly</td>\n",
       "      <td>Women's Dressy Casual Tops Business Work Blous...</td>\n",
       "    </tr>\n",
       "    <tr>\n",
       "      <th>30</th>\n",
       "      <td>ANRABESS</td>\n",
       "      <td>Women Short Sleeve Tops Scoop Neck Ribbed Knit...</td>\n",
       "    </tr>\n",
       "    <tr>\n",
       "      <th>31</th>\n",
       "      <td>AUTOMET</td>\n",
       "      <td>Summer Tops for Women T Shirts 2025 Beach Vaca...</td>\n",
       "    </tr>\n",
       "    <tr>\n",
       "      <th>32</th>\n",
       "      <td>EVALESS</td>\n",
       "      <td>Womens Tops Trendy Dressy Casual Long Sleeve C...</td>\n",
       "    </tr>\n",
       "    <tr>\n",
       "      <th>33</th>\n",
       "      <td>rosemia</td>\n",
       "      <td>Womens Oversized Tshirt Graphic Tees Crew Neck...</td>\n",
       "    </tr>\n",
       "    <tr>\n",
       "      <th>34</th>\n",
       "      <td>ROSELINLIN</td>\n",
       "      <td>Women's Short Sleeve Shirts Floral Summer Tops...</td>\n",
       "    </tr>\n",
       "    <tr>\n",
       "      <th>35</th>\n",
       "      <td>Adibosy</td>\n",
       "      <td>Women Summer Casual Shirts: Short Sleeve Strip...</td>\n",
       "    </tr>\n",
       "    <tr>\n",
       "      <th>36</th>\n",
       "      <td>LEMAFER</td>\n",
       "      <td>Womens Smocked Cuffed Striped Boyfriend Shirt ...</td>\n",
       "    </tr>\n",
       "    <tr>\n",
       "      <th>37</th>\n",
       "      <td>AUTOMET</td>\n",
       "      <td>Womens Cap Sleeve Summer Tops T Shirts Busines...</td>\n",
       "    </tr>\n",
       "    <tr>\n",
       "      <th>38</th>\n",
       "      <td>ANRABESS</td>\n",
       "      <td>Women Oversized T Shirts Short Sleeve Summer C...</td>\n",
       "    </tr>\n",
       "    <tr>\n",
       "      <th>39</th>\n",
       "      <td>Dokotoo</td>\n",
       "      <td>Tops for Women Striped 2025 Fashion T Shirts f...</td>\n",
       "    </tr>\n",
       "    <tr>\n",
       "      <th>40</th>\n",
       "      <td>Port Authority</td>\n",
       "      <td>Ladies Core Classic Pique Polo L.100</td>\n",
       "    </tr>\n",
       "    <tr>\n",
       "      <th>41</th>\n",
       "      <td>Dokotoo</td>\n",
       "      <td>Womens Summer Tops 2025 Striped Color Block Sh...</td>\n",
       "    </tr>\n",
       "    <tr>\n",
       "      <th>42</th>\n",
       "      <td>Trendy Queen</td>\n",
       "      <td>Womens Oversized Summer T Shirts Fashion Worko...</td>\n",
       "    </tr>\n",
       "    <tr>\n",
       "      <th>43</th>\n",
       "      <td>Trendy Queen</td>\n",
       "      <td>Womens Off The Shoulder Tops Oversized T-Shirt...</td>\n",
       "    </tr>\n",
       "    <tr>\n",
       "      <th>44</th>\n",
       "      <td>ATHMILE</td>\n",
       "      <td>Womens T Shirts 2025 Short Sleeve V-Neck Shirt...</td>\n",
       "    </tr>\n",
       "    <tr>\n",
       "      <th>45</th>\n",
       "      <td>MEROKEETY</td>\n",
       "      <td>Women's Summer Short Sleeve Shirt Casual Colou...</td>\n",
       "    </tr>\n",
       "    <tr>\n",
       "      <th>46</th>\n",
       "      <td>Trendy Queen</td>\n",
       "      <td>Oversized Tshirts for Women Workout Plus Size ...</td>\n",
       "    </tr>\n",
       "    <tr>\n",
       "      <th>47</th>\n",
       "      <td>AUTOMET</td>\n",
       "      <td>Womens Short Sleeve T-Shirts Summer Tops Casua...</td>\n",
       "    </tr>\n",
       "    <tr>\n",
       "      <th>48</th>\n",
       "      <td>ANRABESS</td>\n",
       "      <td>Womens Tops Oversized T Shirts Short Sleeve Cr...</td>\n",
       "    </tr>\n",
       "    <tr>\n",
       "      <th>49</th>\n",
       "      <td>AUTOMET</td>\n",
       "      <td>Womens Lace Tops Pleated Short Sleeve Shirts S...</td>\n",
       "    </tr>\n",
       "    <tr>\n",
       "      <th>50</th>\n",
       "      <td>AUTOMET</td>\n",
       "      <td>Womens Summer Tops Oversized Short Sleeve Busi...</td>\n",
       "    </tr>\n",
       "    <tr>\n",
       "      <th>51</th>\n",
       "      <td>XIEERDUO</td>\n",
       "      <td>Womens Tops Short Sleeve Shirts Blouses for Wo...</td>\n",
       "    </tr>\n",
       "    <tr>\n",
       "      <th>52</th>\n",
       "      <td>Dokotoo</td>\n",
       "      <td>Womens Waffle Knit Tops 2025 Fall Summer V Nec...</td>\n",
       "    </tr>\n",
       "    <tr>\n",
       "      <th>53</th>\n",
       "      <td>AUTOMET</td>\n",
       "      <td>T-Shirts Short Sleeve V Neck Tees Tops for Wom...</td>\n",
       "    </tr>\n",
       "    <tr>\n",
       "      <th>54</th>\n",
       "      <td>Zeagoo</td>\n",
       "      <td>Womens Summer Tops Short Sleeve Casual Shirts ...</td>\n",
       "    </tr>\n",
       "    <tr>\n",
       "      <th>55</th>\n",
       "      <td>ATHMILE</td>\n",
       "      <td>T Shirts Short Sleeve V Neck Tees for Women Fa...</td>\n",
       "    </tr>\n",
       "    <tr>\n",
       "      <th>56</th>\n",
       "      <td>WIHOLL</td>\n",
       "      <td>Womens Summer Tops Short Sleeve Basic Casual V...</td>\n",
       "    </tr>\n",
       "    <tr>\n",
       "      <th>57</th>\n",
       "      <td>LILLUSORY</td>\n",
       "      <td>Womens Casual Summer Tops Cap Sleeve Spring T ...</td>\n",
       "    </tr>\n",
       "    <tr>\n",
       "      <th>58</th>\n",
       "      <td>Blooming Jelly</td>\n",
       "      <td>Womens White Blouse V Neck Ruffle Sleeve Flowy...</td>\n",
       "    </tr>\n",
       "    <tr>\n",
       "      <th>59</th>\n",
       "      <td>Heymiss</td>\n",
       "      <td>Womens Tops Short Sleeve V Neck Shirts Loose C...</td>\n",
       "    </tr>\n",
       "  </tbody>\n",
       "</table>\n",
       "</div>"
      ],
      "text/plain": [
       "                brand                                       product_name\n",
       "0   Amazon Essentials  Women's Regular-Fit 3/4 Sleeve V-Neck T-Shirt ...\n",
       "1             AUTOMET  Women Shirts Summer Sweaters Regular Fit Short...\n",
       "2            ANRABESS  Womens Short Sleeve Henley Tops V Neck Dressy ...\n",
       "3        Trendy Queen  Womens Basic T Shirts Summer Tops 2025 Crop Sh...\n",
       "4             AUTOMET  Summer Tops Womens Spring Short Sleeve Shirts ...\n",
       "5   Amazon Essentials  Women's Regular-Fit Short-Sleeve V-Neck T-Shir...\n",
       "6             AUTOMET  Women's Short Sleeve Shirts Dressy Lace Summer...\n",
       "7              WIHOLL  Tops for Women Summer Casual Ruffle Trim Sleev...\n",
       "8             OFEEFAN  Womens T Shirts Short Sleeve Pleated Dressy Ca...\n",
       "9             AUTOMET  Women's Summer Short Sleeve Shirts Trendy T-Sh...\n",
       "10             Zeagoo  Womens Summer Tops Casual Short Sleeve V Neck ...\n",
       "11            AUTOMET  Womens Summer Tops Dressy Casual Blouses Busin...\n",
       "12    Real Essentials  5 Pack: Women's Short Sleeve V-Neck Activewear...\n",
       "13             EyMuse  T Shirts Short Sleeve V Neck Tees Womens Tops ...\n",
       "14           ANRABESS  Oversized Tshirts for Women Summer Tops Short ...\n",
       "15     Oriental Pearl  Women's Vintage Floral T Shirt Boho Wildflower...\n",
       "16  Amazon Essentials  Women's Slim-Fit Short-Sleeve Crewneck T-Shirt...\n",
       "17            BAOKUAN  Women Trendy Tops Sunflower Graphic Loose Summ...\n",
       "18            Huukeay  3 Pack Women's Cap Sleeve Tops Basic Cotton Te...\n",
       "19         JomeDesign  Womens Tops 3/4 Sleeve Shirts Round Neck Loose...\n",
       "20           Memorose  Womens Short Sleeve Tops Summer T Shirts Round...\n",
       "21       Trendy Queen  Womens Basic T Shirts Summer Tops 2025 Short S...\n",
       "22          CE' CERDR  3/5 Pack Womens T Shirts Crew Neck Short Sleev...\n",
       "23           Astylish  Womens V Neck Roll up Sleeve Button Down Blous...\n",
       "24           Falechay  Womens Summer Tops Crewneck Short Sleeve Shirt...\n",
       "25          G Gradual  Women's Sun Shirts UPF 50+ Long Sleeve UV Prot...\n",
       "26             MaQiYa  Womens V Neck Basic Tops Color Block Tunic T S...\n",
       "27            YOGINGO  Womens Basic Short Sleeve Crew Neck T Shirt Sl...\n",
       "28            AUTOMET  Short Sleeve V Neck T Shirts Womens Cap Sleeve...\n",
       "29     Blooming Jelly  Women's Dressy Casual Tops Business Work Blous...\n",
       "30           ANRABESS  Women Short Sleeve Tops Scoop Neck Ribbed Knit...\n",
       "31            AUTOMET  Summer Tops for Women T Shirts 2025 Beach Vaca...\n",
       "32            EVALESS  Womens Tops Trendy Dressy Casual Long Sleeve C...\n",
       "33            rosemia  Womens Oversized Tshirt Graphic Tees Crew Neck...\n",
       "34         ROSELINLIN  Women's Short Sleeve Shirts Floral Summer Tops...\n",
       "35            Adibosy  Women Summer Casual Shirts: Short Sleeve Strip...\n",
       "36            LEMAFER  Womens Smocked Cuffed Striped Boyfriend Shirt ...\n",
       "37            AUTOMET  Womens Cap Sleeve Summer Tops T Shirts Busines...\n",
       "38           ANRABESS  Women Oversized T Shirts Short Sleeve Summer C...\n",
       "39            Dokotoo  Tops for Women Striped 2025 Fashion T Shirts f...\n",
       "40     Port Authority               Ladies Core Classic Pique Polo L.100\n",
       "41            Dokotoo  Womens Summer Tops 2025 Striped Color Block Sh...\n",
       "42       Trendy Queen  Womens Oversized Summer T Shirts Fashion Worko...\n",
       "43       Trendy Queen  Womens Off The Shoulder Tops Oversized T-Shirt...\n",
       "44            ATHMILE  Womens T Shirts 2025 Short Sleeve V-Neck Shirt...\n",
       "45          MEROKEETY  Women's Summer Short Sleeve Shirt Casual Colou...\n",
       "46       Trendy Queen  Oversized Tshirts for Women Workout Plus Size ...\n",
       "47            AUTOMET  Womens Short Sleeve T-Shirts Summer Tops Casua...\n",
       "48           ANRABESS  Womens Tops Oversized T Shirts Short Sleeve Cr...\n",
       "49            AUTOMET  Womens Lace Tops Pleated Short Sleeve Shirts S...\n",
       "50            AUTOMET  Womens Summer Tops Oversized Short Sleeve Busi...\n",
       "51           XIEERDUO  Womens Tops Short Sleeve Shirts Blouses for Wo...\n",
       "52            Dokotoo  Womens Waffle Knit Tops 2025 Fall Summer V Nec...\n",
       "53            AUTOMET  T-Shirts Short Sleeve V Neck Tees Tops for Wom...\n",
       "54             Zeagoo  Womens Summer Tops Short Sleeve Casual Shirts ...\n",
       "55            ATHMILE  T Shirts Short Sleeve V Neck Tees for Women Fa...\n",
       "56             WIHOLL  Womens Summer Tops Short Sleeve Basic Casual V...\n",
       "57          LILLUSORY  Womens Casual Summer Tops Cap Sleeve Spring T ...\n",
       "58     Blooming Jelly  Womens White Blouse V Neck Ruffle Sleeve Flowy...\n",
       "59            Heymiss  Womens Tops Short Sleeve V Neck Shirts Loose C..."
      ]
     },
     "execution_count": 47,
     "metadata": {},
     "output_type": "execute_result"
    }
   ],
   "source": [
    "pd.DataFrame(product_metadata)"
   ]
  },
  {
   "cell_type": "markdown",
   "id": "f7f54716",
   "metadata": {},
   "source": [
    "### Automate rotating \"AUTOMET\"\n",
    "1. Find all products\n",
    "2. filter to those with brand == AUTOMET\n",
    "3. Find the image\n",
    "    - Inject Javascript to make it spin."
   ]
  },
  {
   "cell_type": "code",
   "execution_count": 48,
   "id": "b40ba5cd",
   "metadata": {},
   "outputs": [],
   "source": [
    "async def spin(elem):\n",
    "    \"\"\"\n",
    "    Injects a style attribute to rotate `elem` 180 degrees.\n",
    "    \"\"\"\n",
    "    style = f\"transform: rotate(180deg) !important; \"\n",
    "    await elem.evaluate(\n",
    "            f\"elm => elm.setAttribute('style','{style}')\"\n",
    "    )"
   ]
  },
  {
   "cell_type": "markdown",
   "id": "e4762659-ac43-44e5-b44c-8c2fd3a4a671",
   "metadata": {},
   "source": [
    "Here's how to do this for ads (which we found previously)"
   ]
  },
  {
   "cell_type": "code",
   "execution_count": 49,
   "id": "971e6756",
   "metadata": {},
   "outputs": [],
   "source": [
    "for elem in ads:\n",
    "    await spin(elem)"
   ]
  },
  {
   "cell_type": "markdown",
   "id": "2e82fadb",
   "metadata": {},
   "source": [
    "## Here's the bountry\n",
    "Ultimately, I want every product image from specific brands (of y0ur choosing) to rotate continuously.\n",
    "You need a full screenshot or a video is fine, too.\n",
    "\n",
    "Also, make sure to save the results before you parse them."
   ]
  },
  {
   "cell_type": "code",
   "execution_count": 50,
   "id": "bc728a7d",
   "metadata": {},
   "outputs": [
    {
     "ename": "NameError",
     "evalue": "name 'TK' is not defined",
     "output_type": "error",
     "traceback": [
      "\u001b[0;31m---------------------------------------------------------------------------\u001b[0m",
      "\u001b[0;31mNameError\u001b[0m                                 Traceback (most recent call last)",
      "Cell \u001b[0;32mIn[50], line 3\u001b[0m\n\u001b[1;32m      1\u001b[0m \u001b[38;5;28;01mfor\u001b[39;00m product \u001b[38;5;129;01min\u001b[39;00m product_tiles:\n\u001b[1;32m      2\u001b[0m     \u001b[38;5;66;03m# get the brand name...\u001b[39;00m\n\u001b[0;32m----> 3\u001b[0m     brand_name \u001b[38;5;241m=\u001b[39m \u001b[38;5;28;01mawait\u001b[39;00m product\u001b[38;5;241m.\u001b[39mlocator(\u001b[43mTK\u001b[49m)\n\u001b[1;32m      5\u001b[0m     \u001b[38;5;66;03m# check if brand is in list\u001b[39;00m\n\u001b[1;32m      6\u001b[0m     \u001b[38;5;28;01mif\u001b[39;00m brand_name \u001b[38;5;129;01min\u001b[39;00m brands_to_spin:\n",
      "\u001b[0;31mNameError\u001b[0m: name 'TK' is not defined"
     ]
    }
   ],
   "source": [
    "for product in product_tiles:\n",
    "    # get the brand name...\n",
    "    brand_name = await product.locator(TK)\n",
    "    \n",
    "    # check if brand is in list\n",
    "    if brand_name in brands_to_spin:\n",
    "        print(product.text_content())\n",
    "        # find the image TK\n",
    "        spin(product)"
   ]
  },
  {
   "cell_type": "code",
   "execution_count": null,
   "id": "5f463a9f",
   "metadata": {},
   "outputs": [],
   "source": [
    "await driver.close()"
   ]
  },
  {
   "cell_type": "code",
   "execution_count": null,
   "id": "97284f41-de9e-4341-9771-67e85e2f24be",
   "metadata": {},
   "outputs": [],
   "source": []
  }
 ],
 "metadata": {
  "kernelspec": {
   "display_name": "Python 3 (ipykernel)",
   "language": "python",
   "name": "python3"
  },
  "language_info": {
   "codemirror_mode": {
    "name": "ipython",
    "version": 3
   },
   "file_extension": ".py",
   "mimetype": "text/x-python",
   "name": "python",
   "nbconvert_exporter": "python",
   "pygments_lexer": "ipython3",
   "version": "3.11.4"
  }
 },
 "nbformat": 4,
 "nbformat_minor": 5
}
