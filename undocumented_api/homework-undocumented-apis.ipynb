{
 "cells": [
  {
   "cell_type": "markdown",
   "id": "ce40714b",
   "metadata": {},
   "source": [
    "# Homework - Finding APIs\n",
    "\n",
    "Due 7-22<br>\n",
    "Completed by: **TK YOUR NAME**\n",
    "\n",
    "In this homework we're going to reverse-engineer [Airbnb](https://en.wikipedia.org/wiki/Airbnb)'s interactive tool to estimate the potential earnings by hosting.\n",
    "\n",
    "You can read the [press release](https://news.airbnb.com/interactive-tool-estimates-potential-monthly-host-earnings-on-airbnb/) for the tool, and view the tool on [their website](https://www.airbnb.com/host/homes?room_type=ENTIRE_HOME)."
   ]
  },
  {
   "cell_type": "markdown",
   "id": "5a3a3332",
   "metadata": {},
   "source": [
    "## Getting started\n",
    "\n",
    "As a reminder, you can follow along to the basic steps to do this from the [tutorial we went over during class](https://inspectelement.org/apis.html#tutorial)."
   ]
  },
  {
   "cell_type": "markdown",
   "id": "79a551b0",
   "metadata": {},
   "source": [
    "### 0) Go to the website, and open the developer tools.\n",
    "\n",
    "As a reminder, the website we'll be inspecting today is here:\n",
    "https://www.airbnb.com/host/homes?room_type=ENTIRE_HOME\n",
    "\n",
    "Visit that link, and open up the developer tools (see step 1 in the tutorial)."
   ]
  },
  {
   "cell_type": "markdown",
   "id": "614d2dab",
   "metadata": {},
   "source": [
    "### 1) Use the site as intended\n",
    "\n",
    "With the developer tools open, go to the \"Network\" tab.\n",
    "\n",
    "Go back to the Airbnb website window, and search a new address. It can be any address. For example, you can check the area surrounding Columbia by entering, \"Pulitzer Hall, Broadway, New York, NY, USA\".\n",
    "\n",
    "We're just doing this step to trigger the network request (API call) that requests the potential earnings for the new address."
   ]
  },
  {
   "cell_type": "markdown",
   "id": "42dd3e72",
   "metadata": {},
   "source": [
    "### 2) Find the API call\n",
    "\n",
    "After searching a new address, you should see more entries in the \"Network\" tab in the developer tools.\n",
    "\n",
    "Try to find the exact API call that pulls the estimated earnings.\n",
    "\n",
    "Hint: this is steps [3 and 4](https://inspectelement.org/apis.html#filter-requests-by-fetchxhr) in the tutorial.\n",
    "\n",
    "When you feel like you found the API call, copy it as a curl, and convert that curl into a Python request using [curlconverter.com](https://curlconverter.com/).\n",
    "\n",
    "Paste the request into the cell below, and run it."
   ]
  },
  {
   "cell_type": "code",
   "execution_count": null,
   "id": "08332fd2",
   "metadata": {},
   "outputs": [],
   "source": []
  },
  {
   "cell_type": "code",
   "execution_count": null,
   "id": "ba7fa3a9",
   "metadata": {},
   "outputs": [],
   "source": [
    "# use this function to show the raw JSON response\n",
    "response.json()"
   ]
  },
  {
   "cell_type": "markdown",
   "id": "b751ccea",
   "metadata": {},
   "source": [
    "store the JSON response (dictionary) in a `records` variable to parse."
   ]
  },
  {
   "cell_type": "code",
   "execution_count": null,
   "id": "964cc042",
   "metadata": {},
   "outputs": [],
   "source": [
    "records = response.json()"
   ]
  },
  {
   "cell_type": "markdown",
   "id": "1aa22b2b",
   "metadata": {},
   "source": [
    "here's a trick to see the keys in the dictionary."
   ]
  },
  {
   "cell_type": "code",
   "execution_count": null,
   "id": "69b96e87",
   "metadata": {},
   "outputs": [],
   "source": [
    "records.keys()"
   ]
  },
  {
   "cell_type": "markdown",
   "id": "e69ce8e7",
   "metadata": {},
   "source": [
    "If the dictionary is nested, you can go to the next key, and then list the keys, again."
   ]
  },
  {
   "cell_type": "code",
   "execution_count": null,
   "id": "5605550d",
   "metadata": {},
   "outputs": [],
   "source": [
    "records['data']['presentation'].keys()"
   ]
  },
  {
   "cell_type": "markdown",
   "id": "6006f8a4",
   "metadata": {},
   "source": [
    "### 3) Parse the response\n",
    "In the cell below, traverse the JSON response and get the estimated revenue per night. Store this in a variable named `estimate`."
   ]
  },
  {
   "cell_type": "code",
   "execution_count": null,
   "id": "3460cf26",
   "metadata": {},
   "outputs": [],
   "source": [
    "estimate = records[\"fill this in\"][\"with real keys\"] # if it isn't obvious, you should change this line of code\n",
    "estimate"
   ]
  },
  {
   "cell_type": "markdown",
   "id": "91ea8de9",
   "metadata": {},
   "source": [
    "### 4) Recycle the API call\n",
    "\n",
    "Next, we're going to make the API call reusable. In the cells below fill in what the URL is for the API call"
   ]
  },
  {
   "cell_type": "code",
   "execution_count": null,
   "id": "cfefd790",
   "metadata": {},
   "outputs": [],
   "source": [
    "# what is the URL of the API we found?\n",
    "url = 'https://www.airbnb.com/api/v3/GetHostEstimateData'\n",
    "\n",
    "# copy the necessary headers here\n",
    "headers = {}\n",
    "\n",
    "# copy the necessary parameters here, but replace the hard-coded address with the variable\n",
    "address = ''\n",
    "params = {}\n",
    "\n",
    "response = requests.get(url, params=params, headers=headers)"
   ]
  },
  {
   "cell_type": "markdown",
   "id": "e16775eb",
   "metadata": {},
   "source": [
    "### 5) Make more API calls\n",
    "Run the API call for at least two other `address`es"
   ]
  },
  {
   "cell_type": "code",
   "execution_count": null,
   "id": "3bca46fc",
   "metadata": {},
   "outputs": [],
   "source": [
    "import time"
   ]
  },
  {
   "cell_type": "code",
   "execution_count": null,
   "id": "fbea52b2",
   "metadata": {},
   "outputs": [],
   "source": [
    "# here are some random addresses you can use:\n",
    "addresses = [\n",
    "    \"Pulitzer Hall, Broadway, New York, NY, USA\",\n",
    "    '1932 Bryant Avenue, The Bronx, NY, USA',\n",
    "    '810 39th Avenue Northeast, Naples, FL, USA',\n",
    "    '86 North 6th Street, Brooklyn, NY, USA'\n",
    "]"
   ]
  },
  {
   "cell_type": "code",
   "execution_count": null,
   "id": "b66d133c",
   "metadata": {},
   "outputs": [],
   "source": [
    "responses = [] # we'll record the API responses here.\n",
    "for address in addresses:\n",
    "    params = {\n",
    "        \"fill this in\"\n",
    "    }\n",
    "    response = requests.get(url, params=params, headers=headers)\n",
    "    \n",
    "    # check if the API call was successful by checking the status\n",
    "    if response.status_code == 200:\n",
    "        responses.append(response.json())\n",
    "    \n",
    "    # put some time between requests\n",
    "    time.sleep(1) "
   ]
  },
  {
   "cell_type": "markdown",
   "id": "0bf08522",
   "metadata": {},
   "source": [
    "### 6) What are the daily estimated earnings?\n",
    "Print the estimated earning per night for each address in `responses`."
   ]
  },
  {
   "cell_type": "code",
   "execution_count": null,
   "id": "e0c585fe",
   "metadata": {},
   "outputs": [],
   "source": [
    "for records in responses:\n",
    "    estimate = records['you did this above, but you will need to change this']\n",
    "    print(estimate)"
   ]
  },
  {
   "cell_type": "markdown",
   "id": "2588f9ca",
   "metadata": {},
   "source": [
    "### Extra Credit\n",
    "1. We just printed the estimates above, can you also record the query addresses and print those, too?\n",
    "2. Check different rental configurations in the number of \"bedrooms\".\n",
    "3. What other information is hidden in the API response, anything interesting?\n",
    "\n",
    "### Super Extra\n",
    "1. Get a random sample of addresses from usps.biglocalnews.org\n",
    "    - Merge socioeconomic data from the American Community Survey\n",
    "    - Format the addresses to match the input in the Airbnb site.\n",
    "2. Check if there are patterns in which areas are given the lowest estimates."
   ]
  },
  {
   "cell_type": "code",
   "execution_count": null,
   "id": "ce1aadc6",
   "metadata": {},
   "outputs": [],
   "source": []
  }
 ],
 "metadata": {
  "kernelspec": {
   "display_name": "Python 3 (ipykernel)",
   "language": "python",
   "name": "python3"
  },
  "language_info": {
   "codemirror_mode": {
    "name": "ipython",
    "version": 3
   },
   "file_extension": ".py",
   "mimetype": "text/x-python",
   "name": "python",
   "nbconvert_exporter": "python",
   "pygments_lexer": "ipython3",
   "version": "3.11.4"
  }
 },
 "nbformat": 4,
 "nbformat_minor": 5
}
