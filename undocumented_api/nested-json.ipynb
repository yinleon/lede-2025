{
 "cells": [
  {
   "cell_type": "markdown",
   "id": "b6a15396",
   "metadata": {},
   "source": [
    "# Parsing nested JSON\n",
    "\n",
    "Often times JSON responses are nested like this:"
   ]
  },
  {
   "cell_type": "code",
   "execution_count": 7,
   "id": "e9d466e8-2f74-4b8e-b64d-e7b30399c96d",
   "metadata": {},
   "outputs": [],
   "source": [
    "name2phonenumber = {\n",
    "    'soma' : {\n",
    "        'home' : 0,\n",
    "        'cell' : 1\n",
    "    }\n",
    "}"
   ]
  },
  {
   "cell_type": "code",
   "execution_count": 10,
   "id": "fb7a022d-f423-427f-916a-926173c3b5ee",
   "metadata": {},
   "outputs": [],
   "source": [
    "home_number = name2phonenumber['soma']['home']\n",
    "cell_number = name2phonenumber['soma']['cell']"
   ]
  },
  {
   "cell_type": "code",
   "execution_count": null,
   "id": "96c9c434-c13e-4dc5-bf4e-d71f95cecadc",
   "metadata": {},
   "outputs": [],
   "source": []
  },
  {
   "cell_type": "code",
   "execution_count": null,
   "id": "195560bc-f164-41c1-b0cc-8f3bd47a7e2f",
   "metadata": {},
   "outputs": [],
   "source": []
  },
  {
   "cell_type": "code",
   "execution_count": null,
   "id": "9f5087fc-5638-4320-a310-2f6b296f9c9c",
   "metadata": {},
   "outputs": [],
   "source": []
  },
  {
   "cell_type": "code",
   "execution_count": 11,
   "id": "ddffa55f",
   "metadata": {},
   "outputs": [],
   "source": [
    "name2details = {\n",
    "    'leon' : {\n",
    "        'lastName' : 'yin',\n",
    "        'hairColor' : 'blk',\n",
    "        'pets' : 1,\n",
    "        'favoriteNumbers' : [1,2,3]\n",
    "    },\n",
    "    'soma' : {\n",
    "        'lastName' : 'soma',\n",
    "        'hairColor' : 'NA',\n",
    "        'favoriteNumbers' : [0, -99]\n",
    "    },\n",
    "    \n",
    "}"
   ]
  },
  {
   "cell_type": "markdown",
   "id": "e4c27667",
   "metadata": {},
   "source": [
    "Sometimes these JSON responses (which are dictionaries in Python) are long.\n",
    "\n",
    "You can summarize the keys like this:"
   ]
  },
  {
   "cell_type": "code",
   "execution_count": 12,
   "id": "1b332148",
   "metadata": {},
   "outputs": [
    {
     "data": {
      "text/plain": [
       "dict_keys(['leon', 'soma'])"
      ]
     },
     "execution_count": 12,
     "metadata": {},
     "output_type": "execute_result"
    }
   ],
   "source": [
    "name2details.keys()"
   ]
  },
  {
   "cell_type": "markdown",
   "id": "35f81650",
   "metadata": {},
   "source": [
    "Summarize the values like this:"
   ]
  },
  {
   "cell_type": "code",
   "execution_count": 13,
   "id": "ba21d0a2",
   "metadata": {},
   "outputs": [
    {
     "data": {
      "text/plain": [
       "dict_values([{'lastName': 'yin', 'hairColor': 'blk', 'pets': 1, 'favoriteNumbers': [1, 2, 3]}, {'lastName': 'soma', 'hairColor': 'NA', 'favoriteNumbers': [0, -99]}])"
      ]
     },
     "execution_count": 13,
     "metadata": {},
     "output_type": "execute_result"
    }
   ],
   "source": [
    "name2details.values()"
   ]
  },
  {
   "cell_type": "markdown",
   "id": "d94fad4c",
   "metadata": {},
   "source": [
    "You can access both using `items()`"
   ]
  },
  {
   "cell_type": "code",
   "execution_count": 14,
   "id": "733bc430",
   "metadata": {},
   "outputs": [
    {
     "name": "stdout",
     "output_type": "stream",
     "text": [
      "leon {'lastName': 'yin', 'hairColor': 'blk', 'pets': 1, 'favoriteNumbers': [1, 2, 3]}\n",
      "soma {'lastName': 'soma', 'hairColor': 'NA', 'favoriteNumbers': [0, -99]}\n"
     ]
    }
   ],
   "source": [
    "for k, v in name2details.items():\n",
    "    print(k, v)"
   ]
  },
  {
   "cell_type": "code",
   "execution_count": null,
   "id": "67939415-9de0-4dfe-bf7c-70c6617acebf",
   "metadata": {},
   "outputs": [],
   "source": []
  },
  {
   "cell_type": "code",
   "execution_count": 16,
   "id": "66f40173-fe77-4579-b486-b165dd7c2e32",
   "metadata": {},
   "outputs": [],
   "source": [
    "for k, v in name2details.items():\n",
    "    name = k\n",
    "    surname = v['lastName']\n",
    "    first_fav_num = v['favoriteNumbers'][0]"
   ]
  },
  {
   "cell_type": "markdown",
   "id": "286ec11d",
   "metadata": {},
   "source": [
    "You can access nested objects like this:"
   ]
  },
  {
   "cell_type": "code",
   "execution_count": 8,
   "id": "4f5596de",
   "metadata": {},
   "outputs": [
    {
     "data": {
      "text/plain": [
       "{'lastName': 'yin', 'hairColor': 'blk', 'favoriteNumbers': [1, 2, 3]}"
      ]
     },
     "execution_count": 8,
     "metadata": {},
     "output_type": "execute_result"
    }
   ],
   "source": [
    "name2details['leon']"
   ]
  },
  {
   "cell_type": "code",
   "execution_count": 9,
   "id": "796c4806",
   "metadata": {},
   "outputs": [
    {
     "data": {
      "text/plain": [
       "'yin'"
      ]
     },
     "execution_count": 9,
     "metadata": {},
     "output_type": "execute_result"
    }
   ],
   "source": [
    "name2details['leon']['lastName']"
   ]
  },
  {
   "cell_type": "code",
   "execution_count": 13,
   "id": "c47677b5",
   "metadata": {},
   "outputs": [
    {
     "data": {
      "text/plain": [
       "1"
      ]
     },
     "execution_count": 13,
     "metadata": {},
     "output_type": "execute_result"
    }
   ],
   "source": [
    "name2details['leon']['pets']"
   ]
  },
  {
   "cell_type": "code",
   "execution_count": 16,
   "id": "85a85700",
   "metadata": {},
   "outputs": [
    {
     "data": {
      "text/plain": [
       "'go ask yourself!'"
      ]
     },
     "execution_count": 16,
     "metadata": {},
     "output_type": "execute_result"
    }
   ],
   "source": [
    "name2details['soma'].get('pets', \"go ask yourself!\")"
   ]
  },
  {
   "cell_type": "markdown",
   "id": "a9245fda",
   "metadata": {},
   "source": [
    "Sometimes these objects are lists, you can combine the named indexing with numerical positional indexing"
   ]
  },
  {
   "cell_type": "code",
   "execution_count": 18,
   "id": "3202c2a5",
   "metadata": {},
   "outputs": [
    {
     "data": {
      "text/plain": [
       "-99"
      ]
     },
     "execution_count": 18,
     "metadata": {},
     "output_type": "execute_result"
    }
   ],
   "source": [
    "name2details['soma']['favoriteNumbers'][1]"
   ]
  },
  {
   "cell_type": "code",
   "execution_count": null,
   "id": "15b79ac4",
   "metadata": {},
   "outputs": [],
   "source": []
  },
  {
   "cell_type": "code",
   "execution_count": null,
   "id": "1283a98c-90b5-4ed9-a834-8c6f4531f10f",
   "metadata": {},
   "outputs": [],
   "source": [
    "import requests"
   ]
  },
  {
   "cell_type": "code",
   "execution_count": null,
   "id": "50ea825b-692f-4e41-9437-e1b817f220f7",
   "metadata": {},
   "outputs": [],
   "source": [
    "url = \"something\"\n",
    "resp = requests.get(url)"
   ]
  },
  {
   "cell_type": "code",
   "execution_count": null,
   "id": "d91f0950-1463-4388-b6fd-3614e02ed83a",
   "metadata": {},
   "outputs": [],
   "source": [
    "status_code = resp.status_code"
   ]
  },
  {
   "cell_type": "code",
   "execution_count": 1,
   "id": "88ccdb90-b2b5-41ed-8abe-56873413c3da",
   "metadata": {},
   "outputs": [
    {
     "ename": "SyntaxError",
     "evalue": "incomplete input (4067834746.py, line 2)",
     "output_type": "error",
     "traceback": [
      "\u001b[0;36m  Cell \u001b[0;32mIn[1], line 2\u001b[0;36m\u001b[0m\n\u001b[0;31m    #continue\u001b[0m\n\u001b[0m              ^\u001b[0m\n\u001b[0;31mSyntaxError\u001b[0m\u001b[0;31m:\u001b[0m incomplete input\n"
     ]
    }
   ],
   "source": [
    "if status_code == 200:\n",
    "    #continue \n",
    "\n",
    "elif status_code in [421, 410]:\n",
    "    time.sleep(30)"
   ]
  },
  {
   "cell_type": "code",
   "execution_count": null,
   "id": "aaff5f05-8924-4117-bfaf-f0012bf4e3a0",
   "metadata": {},
   "outputs": [],
   "source": [
    ":"
   ]
  }
 ],
 "metadata": {
  "kernelspec": {
   "display_name": "Python 3 (ipykernel)",
   "language": "python",
   "name": "python3"
  },
  "language_info": {
   "codemirror_mode": {
    "name": "ipython",
    "version": 3
   },
   "file_extension": ".py",
   "mimetype": "text/x-python",
   "name": "python",
   "nbconvert_exporter": "python",
   "pygments_lexer": "ipython3",
   "version": "3.11.4"
  }
 },
 "nbformat": 4,
 "nbformat_minor": 5
}
